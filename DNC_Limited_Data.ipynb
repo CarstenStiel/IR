{
 "cells": [
  {
   "cell_type": "markdown",
   "id": "558614a4",
   "metadata": {},
   "source": [
    "Im folgenden soll eine JSONL-Datei mit den gewünschten Werten (ID und Text) aus einer anderen JSONL-Datei extrahiert und erstellt werden!"
   ]
  },
  {
   "cell_type": "markdown",
   "id": "e161d78f",
   "metadata": {},
   "source": [
    "Imports:"
   ]
  },
  {
   "cell_type": "code",
   "execution_count": 7,
   "id": "5cfcbfac",
   "metadata": {
    "scrolled": false
   },
   "outputs": [],
   "source": [
    "import json\n",
    "import os\n",
    "import xml.etree.ElementTree as ET"
   ]
  },
  {
   "cell_type": "markdown",
   "id": "0aec94dc",
   "metadata": {},
   "source": [
    "Funktion um den aktuellen Pfad zu ermitteln mit Rückgabe als String:"
   ]
  },
  {
   "cell_type": "code",
   "execution_count": 8,
   "id": "9ff1288a",
   "metadata": {},
   "outputs": [],
   "source": [
    "def getDirectory():\n",
    "    current_directory = os.getcwd()\n",
    "    if current_directory.__contains__(\"Code\"):\n",
    "        current_directory = os.path.dirname(current_directory)\n",
    "    current_directory = os.path.join(current_directory, \"\")\n",
    "    return current_directory"
   ]
  },
  {
   "cell_type": "markdown",
   "id": "5b9535a3",
   "metadata": {},
   "source": [
    "Variablen um Daten/Datein zu öffnen und zu erstellen:"
   ]
  },
  {
   "cell_type": "code",
   "execution_count": 9,
   "id": "7f3aba6e",
   "metadata": {
    "scrolled": false
   },
   "outputs": [],
   "source": [
    "xmlFileName = \"topics.xml\"\n",
    "inputFileName = \"ir-anthology-07-11-2021-ss23.jsonl\"\n",
    "outputFileName = \"ir-anthology-final.jsonl\"\n",
    "inputFilePath = getDirectory() + inputFileName\n",
    "outputFilePath = getDirectory() + \"CreatedData\\\\\" + outputFileName\n",
    "xmlFilePath = getDirectory() + \"CreatedData\\\\\" + xmlFileName"
   ]
  },
  {
   "cell_type": "markdown",
   "id": "205acd02",
   "metadata": {},
   "source": [
    "Überprüfen, ob Datei im Pfad existiert mit Rückgabe als Boolean:"
   ]
  },
  {
   "cell_type": "code",
   "execution_count": 10,
   "id": "dc372c51",
   "metadata": {},
   "outputs": [],
   "source": [
    "def checkForFile(file_path, file_name):\n",
    "    if os.path.isfile(file_path):\n",
    "        print(f\"Die Datei {file_name} existiert bereits.\")\n",
    "        return True\n",
    "    else:\n",
    "        print(f\"Die Datei {file_name} existiert nicht.\")\n",
    "        return False"
   ]
  },
  {
   "cell_type": "markdown",
   "id": "14cf1c73",
   "metadata": {},
   "source": [
    "Data to stuff:"
   ]
  },
  {
   "cell_type": "code",
   "execution_count": 11,
   "id": "980d4ecf",
   "metadata": {
    "scrolled": true
   },
   "outputs": [],
   "source": [
    "def getEntriesToJSONL(inputFile, outputFilePath, outputFileName):\n",
    "    if checkForFile(outputFilePath,outputFileName) == False:\n",
    "        with open(outputFilePath, 'w') as f:\n",
    "            try:\n",
    "                f.write(json.dumps(\"\"))\n",
    "                print(f\"Die Datei {outputFileName} wurde in Folgendem Pfad erstellt: {outputFilePath}\")\n",
    "            except Exception as e:\n",
    "                print(f\"Fehler beim Erstellen der Datei {outputFileName}: {e}\")\n",
    "\n",
    "    # Öffne die Eingabe-JSONL-Datei und die Ausgabe-JSONL-Datei\n",
    "    with open(inputFile, \"r\") as input_file, open(outputFilePath, \"w\") as output_file:\n",
    "        # Iteriere über jede Zeile der Eingabe-JSONL-Datei\n",
    "        for line in input_file:\n",
    "            # Lade die JSON-Daten aus der Zeile\n",
    "            lineJSON = json.loads(line)\n",
    "            array = []\n",
    "            for key in lineJSON:\n",
    "                array.append(lineJSON[key])\n",
    "            stringJSON = \" \".join(str(item) for item in array)\n",
    "\n",
    "            # Extrahiere nur die \"doc_id\" und \"text\" Felder\n",
    "            filtered_data = {\"doc_id\": lineJSON[\"id\"], \"text\": stringJSON}\n",
    "\n",
    "            # Schreibe die extrahierten Daten als JSON in die Ausgabe-JSONL-Datei\n",
    "            output_file.write(json.dumps(filtered_data) + \"\\n\")"
   ]
  },
  {
   "cell_type": "markdown",
   "id": "6456578a",
   "metadata": {},
   "source": []
  },
  {
   "cell_type": "code",
   "execution_count": 12,
   "id": "909f7c1b",
   "metadata": {},
   "outputs": [
    {
     "name": "stdout",
     "output_type": "stream",
     "text": [
      "Die Datei ir-anthology-final.jsonl existiert nicht.\n",
      "Die Datei ir-anthology-final.jsonl wurde in Folgendem Pfad erstellt: C:\\Users\\timot\\Desktop\\IR\\CreatedData\\ir-anthology-final.jsonl\n"
     ]
    }
   ],
   "source": [
    "getEntriesToJSONL(inputFilePath, outputFilePath, outputFileName)"
   ]
  }
 ],
 "metadata": {
  "kernelspec": {
   "display_name": "Python 3 (ipykernel)",
   "language": "python",
   "name": "python3"
  },
  "language_info": {
   "codemirror_mode": {
    "name": "ipython",
    "version": 3
   },
   "file_extension": ".py",
   "mimetype": "text/x-python",
   "name": "python",
   "nbconvert_exporter": "python",
   "pygments_lexer": "ipython3",
   "version": "3.11.3"
  }
 },
 "nbformat": 4,
 "nbformat_minor": 5
}
