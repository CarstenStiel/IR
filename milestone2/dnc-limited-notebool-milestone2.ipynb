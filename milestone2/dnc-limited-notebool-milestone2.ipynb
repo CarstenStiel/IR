{
 "cells": [
  {
   "cell_type": "markdown",
   "id": "bb68a97a",
   "metadata": {},
   "source": [
    "### <ins> Milestone 2 </ins>"
   ]
  },
  {
   "cell_type": "markdown",
   "source": [
    "## Information\n",
    "\n",
    "The following Code is for the use inside the \"pyterrier\" Docker image and couldn´t function, if you want to execute it in your notebook!\n",
    "\n",
    "You can also check the README for all informations!\n",
    "\n",
    "Please follow these steps to create the needed output:\n",
    "\n",
    "1. Navigate in your terminal to the \"milestone2\" folder\n",
    "\n",
    "2. Pull the image of the \"milestone1\" with the qrels command\n",
    "    ```\n",
    "    docker pull carstenstiel/milestone1\n",
    "    ```\n",
    "3. Execute the tira-run command for the \"milestone1\" to get the needed output:\n",
    "    ```\n",
    "    tira-run --output-directory ${PWD}/iranthology-dataset-tira --image carstenstiel/milestone1 --allow-network true --command '/irds_cli.sh --ir_datasets_id iranthology-dnc-limited --output_dataset_path $outputDir'\n",
    "    ```\n",
    "4. Build an image for the current milestone:\n",
    "    ```\n",
    "    docker build -t milestone2 .\n",
    "    ```\n",
    "    (optional) If you want, you can run this image:\n",
    "    ```\n",
    "    docker run --rm -ti -p 8888:8888 -v ${PWD}:/workspace milestone02\n",
    "    ```\n",
    "5. Execute this notebook as tira would do:\n",
    "    ```\n",
    "    tira-run --input-directory ${PWD}/iranthology-dataset-tira --output-directory ${PWD}/bm25-output --image milestone2 --command '/workspace/run-pyterrier-notebook.py --input $inputDataset --output $outputDir --notebook /workspace/dnc-limited-notebool-milestone2.ipynb'\n",
    "    ```"
   ],
   "metadata": {
    "collapsed": false
   }
  },
  {
   "cell_type": "markdown",
   "source": [
    "6. Render results:\n",
    "    ```\n",
    "    tira-run --output-directory ${PWD}/bm25-output --image carstenstiel/milestone1 --allow-network true --command 'diffir --dataset iranthology-dnc-limited --web $outputDir/run.txt > $outputDir/run.html'\n",
    "    ```\n",
    "7. Evaluate the effectiveness of the baseline on your relevance judgments:\n",
    "    ```\n",
    "    tira-run --input-directory ${PWD}/bm25-output --image carstenstiel/milestone1 --allow-network true --command 'ir_measures iranthology-dnc-limited $inputDataset/run.txt nDCG@10 MRR P@10 Recall@100'\n",
    "    ```"
   ],
   "metadata": {
    "collapsed": false
   }
  },
  {
   "cell_type": "markdown",
   "id": "a4a05dba",
   "metadata": {},
   "source": [
    "## Code"
   ]
  },
  {
   "cell_type": "code",
   "execution_count": 2,
   "outputs": [
    {
     "ename": "ValueError",
     "evalue": "I expect to find the environment variables PYTERRIER_VERSION and PYTERRIER_HELPER_VERSION. Current environment variables: environ({'ALLUSERSPROFILE': 'C:\\\\ProgramData', 'AMDRMSDKPATH': 'C:\\\\Program Files\\\\AMD\\\\RyzenMasterSDK\\\\', 'APPDATA': 'C:\\\\Users\\\\timot\\\\AppData\\\\Roaming', 'CHOCOLATEYINSTALL': 'C:\\\\ProgramData\\\\chocolatey', 'CHOCOLATEYLASTPATHUPDATE': '133123201656327407', 'COMMONPROGRAMFILES': 'C:\\\\Program Files\\\\Common Files', 'COMMONPROGRAMFILES(X86)': 'C:\\\\Program Files (x86)\\\\Common Files', 'COMMONPROGRAMW6432': 'C:\\\\Program Files\\\\Common Files', 'COMPUTERNAME': 'TIMOTHYPC', 'COMSPEC': 'C:\\\\Windows\\\\system32\\\\cmd.exe', 'DRIVERDATA': 'C:\\\\Windows\\\\System32\\\\Drivers\\\\DriverData', 'EFC_6688': '1', 'FPS_BROWSER_APP_PROFILE_STRING': 'Internet Explorer', 'FPS_BROWSER_USER_PROFILE_STRING': 'Default', 'HOMEDRIVE': 'C:', 'HOMEPATH': '\\\\Users\\\\timot', 'IDEA_INITIAL_DIRECTORY': 'C:\\\\Program Files\\\\JetBrains\\\\PyCharm 2023.1\\\\bin', 'LANG': 'en_US.UTF-8', 'LANGUAGE': '', 'LC_ALL': 'en_US.UTF-8', 'LOCALAPPDATA': 'C:\\\\Users\\\\timot\\\\AppData\\\\Local', 'LOGONSERVER': '\\\\\\\\TIMOTHYPC', 'NUMBER_OF_PROCESSORS': '12', 'ONEDRIVE': 'C:\\\\Users\\\\timot\\\\OneDrive', 'OS': 'Windows_NT', 'PATH': 'C:\\\\Python311\\\\Scripts;C:\\\\Python311\\\\;C:\\\\Program Files\\\\Common Files\\\\Oracle\\\\Java\\\\javapath;C:\\\\Program Files (x86)\\\\Common Files\\\\Oracle\\\\Java\\\\javapath;C:\\\\Windows\\\\system32;C:\\\\Windows;C:\\\\Windows\\\\System32\\\\Wbem;C:\\\\Windows\\\\System32\\\\WindowsPowerShell\\\\v1.0\\\\;C:\\\\Windows\\\\System32\\\\OpenSSH\\\\;C:\\\\Program Files\\\\NVIDIA Corporation\\\\NVIDIA NvDLISR;C:\\\\ProgramData\\\\chocolatey\\\\bin;C:\\\\Program Files (x86)\\\\NVIDIA Corporation\\\\PhysX\\\\Common;C:\\\\Program Files\\\\Git\\\\cmd;C:\\\\Program Files\\\\nodejs\\\\;C:\\\\Program Files\\\\Docker\\\\Docker\\\\resources\\\\bin;C:\\\\Users\\\\timot\\\\AppData\\\\Local\\\\Programs\\\\Python\\\\Python39\\\\Scripts\\\\;C:\\\\Users\\\\timot\\\\AppData\\\\Local\\\\Programs\\\\Python\\\\Python39\\\\;C:\\\\Users\\\\timot\\\\AppData\\\\Local\\\\Microsoft\\\\WindowsApps;C:\\\\Users\\\\timot\\\\AppData\\\\Local\\\\Programs\\\\Microsoft VS Code\\\\bin;C:\\\\Users\\\\timot\\\\AppData\\\\Local\\\\gitkraken\\\\bin;C:\\\\Users\\\\timot\\\\AppData\\\\Local\\\\GitHubDesktop\\\\bin;C:\\\\Users\\\\timot\\\\AppData\\\\Roaming\\\\npm', 'PATHEXT': '.COM;.EXE;.BAT;.CMD;.VBS;.VBE;.JS;.JSE;.WSF;.WSH;.MSC;.PY;.PYW', 'PROCESSOR_ARCHITECTURE': 'AMD64', 'PROCESSOR_IDENTIFIER': 'AMD64 Family 25 Model 80 Stepping 0, AuthenticAMD', 'PROCESSOR_LEVEL': '25', 'PROCESSOR_REVISION': '5000', 'PROGRAMDATA': 'C:\\\\ProgramData', 'PROGRAMFILES': 'C:\\\\Program Files', 'PROGRAMFILES(X86)': 'C:\\\\Program Files (x86)', 'PROGRAMW6432': 'C:\\\\Program Files', 'PSMODULEPATH': 'C:\\\\Program Files\\\\WindowsPowerShell\\\\Modules;C:\\\\Windows\\\\system32\\\\WindowsPowerShell\\\\v1.0\\\\Modules', 'PUBLIC': 'C:\\\\Users\\\\Public', 'PYTHONPATH': 'C:\\\\Users\\\\timot\\\\Desktop\\\\IR', 'SESSIONNAME': 'Console', 'SYSTEMDRIVE': 'C:', 'SYSTEMROOT': 'C:\\\\Windows', 'TEMP': 'C:\\\\Users\\\\timot\\\\AppData\\\\Local\\\\Temp', 'TMP': 'C:\\\\Users\\\\timot\\\\AppData\\\\Local\\\\Temp', 'USERDOMAIN': 'TIMOTHYPC', 'USERDOMAIN_ROAMINGPROFILE': 'TIMOTHYPC', 'USERNAME': 'timot', 'USERPROFILE': 'C:\\\\Users\\\\timot', 'WINDIR': 'C:\\\\Windows', 'PYDEVD_USE_FRAME_EVAL': 'NO', 'JPY_INTERRUPT_EVENT': '1372', 'IPY_INTERRUPT_EVENT': '1372', 'JPY_PARENT_PID': '1440', 'TERM': 'xterm-color', 'CLICOLOR': '1', 'FORCE_COLOR': '1', 'CLICOLOR_FORCE': '1', 'PAGER': 'cat', 'GIT_PAGER': 'cat', 'MPLBACKEND': 'module://matplotlib_inline.backend_inline'})",
     "output_type": "error",
     "traceback": [
      "\u001B[1;31m---------------------------------------------------------------------------\u001B[0m",
      "\u001B[1;31mValueError\u001B[0m                                Traceback (most recent call last)",
      "Cell \u001B[1;32mIn[2], line 7\u001B[0m\n\u001B[0;32m      4\u001B[0m \u001B[38;5;28;01mimport\u001B[39;00m \u001B[38;5;21;01mjson\u001B[39;00m\n\u001B[0;32m      5\u001B[0m \u001B[38;5;28;01mfrom\u001B[39;00m \u001B[38;5;21;01mtqdm\u001B[39;00m \u001B[38;5;28;01mimport\u001B[39;00m tqdm\n\u001B[1;32m----> 7\u001B[0m \u001B[43mensure_pyterrier_is_loaded\u001B[49m\u001B[43m(\u001B[49m\u001B[43m)\u001B[49m\n\u001B[0;32m      8\u001B[0m input_directory, output_directory \u001B[38;5;241m=\u001B[39m get_input_directory_and_output_directory(\u001B[38;5;124m'\u001B[39m\u001B[38;5;124m./iranthology-dataset-tira\u001B[39m\u001B[38;5;124m'\u001B[39m)\n",
      "File \u001B[1;32mC:\\Python311\\Lib\\site-packages\\tira\\third_party_integrations.py:10\u001B[0m, in \u001B[0;36mensure_pyterrier_is_loaded\u001B[1;34m(boot_packages, packages)\u001B[0m\n\u001B[0;32m      7\u001B[0m \u001B[38;5;28;01mimport\u001B[39;00m \u001B[38;5;21;01mpyterrier\u001B[39;00m \u001B[38;5;28;01mas\u001B[39;00m \u001B[38;5;21;01mpt\u001B[39;00m\n\u001B[0;32m      9\u001B[0m \u001B[38;5;28;01mif\u001B[39;00m \u001B[38;5;124m'\u001B[39m\u001B[38;5;124mPYTERRIER_VERSION\u001B[39m\u001B[38;5;124m'\u001B[39m \u001B[38;5;129;01mnot\u001B[39;00m \u001B[38;5;129;01min\u001B[39;00m os\u001B[38;5;241m.\u001B[39menviron \u001B[38;5;129;01mor\u001B[39;00m \u001B[38;5;124m'\u001B[39m\u001B[38;5;124mPYTERRIER_HELPER_VERSION\u001B[39m\u001B[38;5;124m'\u001B[39m \u001B[38;5;129;01mnot\u001B[39;00m \u001B[38;5;129;01min\u001B[39;00m os\u001B[38;5;241m.\u001B[39menviron:\n\u001B[1;32m---> 10\u001B[0m     \u001B[38;5;28;01mraise\u001B[39;00m \u001B[38;5;167;01mValueError\u001B[39;00m(\u001B[38;5;124mf\u001B[39m\u001B[38;5;124m'\u001B[39m\u001B[38;5;124mI expect to find the environment variables PYTERRIER_VERSION and PYTERRIER_HELPER_VERSION. Current environment variables: \u001B[39m\u001B[38;5;132;01m{\u001B[39;00mos\u001B[38;5;241m.\u001B[39menviron\u001B[38;5;132;01m}\u001B[39;00m\u001B[38;5;124m'\u001B[39m)\n\u001B[0;32m     12\u001B[0m pt_version \u001B[38;5;241m=\u001B[39m os\u001B[38;5;241m.\u001B[39menviron[\u001B[38;5;124m'\u001B[39m\u001B[38;5;124mPYTERRIER_VERSION\u001B[39m\u001B[38;5;124m'\u001B[39m]\n\u001B[0;32m     13\u001B[0m pt_helper_version \u001B[38;5;241m=\u001B[39m os\u001B[38;5;241m.\u001B[39menviron[\u001B[38;5;124m'\u001B[39m\u001B[38;5;124mPYTERRIER_HELPER_VERSION\u001B[39m\u001B[38;5;124m'\u001B[39m]\n",
      "\u001B[1;31mValueError\u001B[0m: I expect to find the environment variables PYTERRIER_VERSION and PYTERRIER_HELPER_VERSION. Current environment variables: environ({'ALLUSERSPROFILE': 'C:\\\\ProgramData', 'AMDRMSDKPATH': 'C:\\\\Program Files\\\\AMD\\\\RyzenMasterSDK\\\\', 'APPDATA': 'C:\\\\Users\\\\timot\\\\AppData\\\\Roaming', 'CHOCOLATEYINSTALL': 'C:\\\\ProgramData\\\\chocolatey', 'CHOCOLATEYLASTPATHUPDATE': '133123201656327407', 'COMMONPROGRAMFILES': 'C:\\\\Program Files\\\\Common Files', 'COMMONPROGRAMFILES(X86)': 'C:\\\\Program Files (x86)\\\\Common Files', 'COMMONPROGRAMW6432': 'C:\\\\Program Files\\\\Common Files', 'COMPUTERNAME': 'TIMOTHYPC', 'COMSPEC': 'C:\\\\Windows\\\\system32\\\\cmd.exe', 'DRIVERDATA': 'C:\\\\Windows\\\\System32\\\\Drivers\\\\DriverData', 'EFC_6688': '1', 'FPS_BROWSER_APP_PROFILE_STRING': 'Internet Explorer', 'FPS_BROWSER_USER_PROFILE_STRING': 'Default', 'HOMEDRIVE': 'C:', 'HOMEPATH': '\\\\Users\\\\timot', 'IDEA_INITIAL_DIRECTORY': 'C:\\\\Program Files\\\\JetBrains\\\\PyCharm 2023.1\\\\bin', 'LANG': 'en_US.UTF-8', 'LANGUAGE': '', 'LC_ALL': 'en_US.UTF-8', 'LOCALAPPDATA': 'C:\\\\Users\\\\timot\\\\AppData\\\\Local', 'LOGONSERVER': '\\\\\\\\TIMOTHYPC', 'NUMBER_OF_PROCESSORS': '12', 'ONEDRIVE': 'C:\\\\Users\\\\timot\\\\OneDrive', 'OS': 'Windows_NT', 'PATH': 'C:\\\\Python311\\\\Scripts;C:\\\\Python311\\\\;C:\\\\Program Files\\\\Common Files\\\\Oracle\\\\Java\\\\javapath;C:\\\\Program Files (x86)\\\\Common Files\\\\Oracle\\\\Java\\\\javapath;C:\\\\Windows\\\\system32;C:\\\\Windows;C:\\\\Windows\\\\System32\\\\Wbem;C:\\\\Windows\\\\System32\\\\WindowsPowerShell\\\\v1.0\\\\;C:\\\\Windows\\\\System32\\\\OpenSSH\\\\;C:\\\\Program Files\\\\NVIDIA Corporation\\\\NVIDIA NvDLISR;C:\\\\ProgramData\\\\chocolatey\\\\bin;C:\\\\Program Files (x86)\\\\NVIDIA Corporation\\\\PhysX\\\\Common;C:\\\\Program Files\\\\Git\\\\cmd;C:\\\\Program Files\\\\nodejs\\\\;C:\\\\Program Files\\\\Docker\\\\Docker\\\\resources\\\\bin;C:\\\\Users\\\\timot\\\\AppData\\\\Local\\\\Programs\\\\Python\\\\Python39\\\\Scripts\\\\;C:\\\\Users\\\\timot\\\\AppData\\\\Local\\\\Programs\\\\Python\\\\Python39\\\\;C:\\\\Users\\\\timot\\\\AppData\\\\Local\\\\Microsoft\\\\WindowsApps;C:\\\\Users\\\\timot\\\\AppData\\\\Local\\\\Programs\\\\Microsoft VS Code\\\\bin;C:\\\\Users\\\\timot\\\\AppData\\\\Local\\\\gitkraken\\\\bin;C:\\\\Users\\\\timot\\\\AppData\\\\Local\\\\GitHubDesktop\\\\bin;C:\\\\Users\\\\timot\\\\AppData\\\\Roaming\\\\npm', 'PATHEXT': '.COM;.EXE;.BAT;.CMD;.VBS;.VBE;.JS;.JSE;.WSF;.WSH;.MSC;.PY;.PYW', 'PROCESSOR_ARCHITECTURE': 'AMD64', 'PROCESSOR_IDENTIFIER': 'AMD64 Family 25 Model 80 Stepping 0, AuthenticAMD', 'PROCESSOR_LEVEL': '25', 'PROCESSOR_REVISION': '5000', 'PROGRAMDATA': 'C:\\\\ProgramData', 'PROGRAMFILES': 'C:\\\\Program Files', 'PROGRAMFILES(X86)': 'C:\\\\Program Files (x86)', 'PROGRAMW6432': 'C:\\\\Program Files', 'PSMODULEPATH': 'C:\\\\Program Files\\\\WindowsPowerShell\\\\Modules;C:\\\\Windows\\\\system32\\\\WindowsPowerShell\\\\v1.0\\\\Modules', 'PUBLIC': 'C:\\\\Users\\\\Public', 'PYTHONPATH': 'C:\\\\Users\\\\timot\\\\Desktop\\\\IR', 'SESSIONNAME': 'Console', 'SYSTEMDRIVE': 'C:', 'SYSTEMROOT': 'C:\\\\Windows', 'TEMP': 'C:\\\\Users\\\\timot\\\\AppData\\\\Local\\\\Temp', 'TMP': 'C:\\\\Users\\\\timot\\\\AppData\\\\Local\\\\Temp', 'USERDOMAIN': 'TIMOTHYPC', 'USERDOMAIN_ROAMINGPROFILE': 'TIMOTHYPC', 'USERNAME': 'timot', 'USERPROFILE': 'C:\\\\Users\\\\timot', 'WINDIR': 'C:\\\\Windows', 'PYDEVD_USE_FRAME_EVAL': 'NO', 'JPY_INTERRUPT_EVENT': '1372', 'IPY_INTERRUPT_EVENT': '1372', 'JPY_PARENT_PID': '1440', 'TERM': 'xterm-color', 'CLICOLOR': '1', 'FORCE_COLOR': '1', 'CLICOLOR_FORCE': '1', 'PAGER': 'cat', 'GIT_PAGER': 'cat', 'MPLBACKEND': 'module://matplotlib_inline.backend_inline'})"
     ]
    }
   ],
   "source": [
    "import pyterrier as pt\n",
    "import pandas as pd\n",
    "from tira.third_party_integrations import ensure_pyterrier_is_loaded, get_input_directory_and_output_directory, persist_and_normalize_run\n",
    "import json\n",
    "from tqdm import tqdm\n",
    "\n",
    "ensure_pyterrier_is_loaded()\n",
    "input_directory, output_directory = get_input_directory_and_output_directory('./iranthology-dataset-tira')"
   ],
   "metadata": {
    "collapsed": false,
    "ExecuteTime": {
     "end_time": "2023-05-28T17:40:35.792335300Z",
     "start_time": "2023-05-28T17:40:35.756376900Z"
    }
   }
  },
  {
   "cell_type": "markdown",
   "id": "c70b1e3d",
   "metadata": {},
   "source": [
    "Start PyTerrier with version=5.7, helper_version=0.0.7, no_download=True"
   ]
  },
  {
   "cell_type": "code",
   "execution_count": null,
   "id": "06dce6ab",
   "metadata": {
    "ExecuteTime": {
     "start_time": "2023-05-28T17:40:35.782264900Z"
    }
   },
   "outputs": [],
   "source": [
    "!ls -lha {input_directory}"
   ]
  },
  {
   "cell_type": "markdown",
   "id": "9ea9536b",
   "metadata": {},
   "source": [
    "The input directory contains the following files:"
   ]
  },
  {
   "cell_type": "code",
   "execution_count": null,
   "id": "fab8c958",
   "metadata": {
    "ExecuteTime": {
     "start_time": "2023-05-28T17:40:35.783273100Z"
    }
   },
   "outputs": [],
   "source": [
    "queries = pt.io.read_topics(input_directory + '/queries.xml', format='trecxml')\n",
    "\n",
    "documents = [json.loads(i) for i in open(input_directory + '/documents.jsonl', 'r')]"
   ]
  },
  {
   "cell_type": "markdown",
   "id": "26664e2a",
   "metadata": {},
   "source": [
    "Load Data"
   ]
  },
  {
   "cell_type": "code",
   "execution_count": null,
   "id": "f57c4cba",
   "metadata": {
    "ExecuteTime": {
     "start_time": "2023-05-28T17:40:35.785272700Z"
    }
   },
   "outputs": [],
   "source": [
    "!rm -Rf ./index\n",
    "iter_indexer = pt.IterDictIndexer(\"./index\", meta={'docno' : 100})\n",
    "index_ref = iter_indexer.index(tqdm(documents))"
   ]
  },
  {
   "cell_type": "markdown",
   "id": "1a5cd21f",
   "metadata": {},
   "source": [
    "Create the Index."
   ]
  },
  {
   "cell_type": "code",
   "execution_count": null,
   "id": "983fa1f6",
   "metadata": {},
   "outputs": [],
   "source": [
    "bm25 = pt.BatchRetrieve(index_ref, wmodel=\"BM25\", verbose=True)"
   ]
  },
  {
   "cell_type": "markdown",
   "id": "12e9622d",
   "metadata": {},
   "source": [
    "Create Retrieval Pipeline"
   ]
  },
  {
   "cell_type": "code",
   "execution_count": null,
   "id": "a95a8a32",
   "metadata": {},
   "outputs": [],
   "source": [
    "print('Step 5: Create Run.')\n",
    "\n",
    "run = bm25(queries)"
   ]
  },
  {
   "cell_type": "markdown",
   "id": "8f656a8b",
   "metadata": {},
   "source": [
    "Create run"
   ]
  },
  {
   "cell_type": "code",
   "execution_count": null,
   "id": "d7ec9a8a",
   "metadata": {
    "is_executing": true
   },
   "outputs": [],
   "source": [
    "print('We look at the first 10 results of the run:\\n')\n",
    "run.head(10)"
   ]
  },
  {
   "cell_type": "markdown",
   "id": "05fe2d36",
   "metadata": {},
   "source": [
    "We look at the first 10 results of the run:"
   ]
  },
  {
   "cell_type": "code",
   "execution_count": null,
   "id": "c37da475",
   "metadata": {
    "is_executing": true
   },
   "outputs": [],
   "source": [
    "print('Step 6: Persist Run.')\n",
    "\n",
    "persist_and_normalize_run(run, output_file=output_directory, system_name='BM25', depth=1000)\n",
    "\n",
    "print('Done :)')"
   ]
  },
  {
   "cell_type": "markdown",
   "id": "7110eaf7",
   "metadata": {},
   "source": [
    "Step 6: Persist Run.\n",
    "Done :)"
   ]
  }
 ],
 "metadata": {
  "kernelspec": {
   "display_name": "Python 3 (ipykernel)",
   "language": "python",
   "name": "python3"
  },
  "language_info": {
   "codemirror_mode": {
    "name": "ipython",
    "version": 3
   },
   "file_extension": ".py",
   "mimetype": "text/x-python",
   "name": "python",
   "nbconvert_exporter": "python",
   "pygments_lexer": "ipython3",
   "version": "3.11.3"
  },
  "widgets": {
   "application/vnd.jupyter.widget-state+json": {
    "state": {},
    "version_major": 2,
    "version_minor": 0
   }
  }
 },
 "nbformat": 4,
 "nbformat_minor": 5
}
