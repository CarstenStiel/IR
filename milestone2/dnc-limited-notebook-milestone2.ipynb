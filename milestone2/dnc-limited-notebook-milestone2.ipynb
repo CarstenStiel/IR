{
 "cells": [
  {
   "cell_type": "markdown",
   "id": "bb68a97a",
   "metadata": {},
   "source": [
    "# <ins> Milestone 2 </ins>"
   ]
  },
  {
   "cell_type": "markdown",
   "id": "7b479a05",
   "metadata": {},
   "source": [
    "## Information\n",
    "\n",
    "The following Code is for the use inside the \"pyterrier\" Docker image and couldn´t function, if you want to execute it in your notebook!\n",
    "\n",
    "Please follow these steps to create the needed output:\n",
    "\n",
    "### Pre-condition\n",
    "\n",
    "1. Navigate in your terminal to the \"milestone2\" folder and open \"Docker Desktop\"\n",
    "\n",
    "2. Pull the image of the \"milestone1\" with the qrels command\n",
    "    ```\n",
    "    docker pull registry.webis.de/code-research/tira/tira-user-ir-lab-sose-2023-dnc-limited/ir-datasets:0.0.1\n",
    "    ```\n",
    "3. Execute the tira-run command for the \"milestone1\" to get the needed output:\n",
    "    ```\n",
    "    tira-run --output-directory ${PWD}/iranthology-dataset-tira --image registry.webis.de/code-research/tira/tira-user-ir-lab-sose-2023-dnc-limited/ir-datasets:0.0.1 --allow-network true --command '/irds_cli.sh --ir_datasets_id iranthology-dnc-limited --output_dataset_path $outputDir'\n",
    "    ```\n",
    "   \n",
    "### Milestone 2\n",
    "\n",
    "4. Build an image for the current milestone:\n",
    "    ```\n",
    "    docker build -t milestone2 .\n",
    "    ```\n",
    "5. Run this image:\n",
    "    ```\n",
    "    docker run -p 8888:8888 --rm -ti -v ${PWD}:/workspace --entrypoint jupyter milestone2  notebook --allow-root --ip 0.0.0.0\n",
    "    ```\n",
    "6. Execute this notebook as tira would do:\n",
    "    ```\n",
    "    tira-run --input-directory ${PWD}/iranthology-dataset-tira --output-directory ${PWD}/bm25-output --image milestone2 --command '/workspace/run-pyterrier-notebook.py --input $inputDataset --output $outputDir --notebook /workspace/dnc-limited-notebook-milestone2.ipynb'\n",
    "    ```\n",
    "7. Render results:\n",
    "    ```\n",
    "    tira-run --output-directory ${PWD}/bm25-output --image registry.webis.de/code-research/tira/tira-user-ir-lab-sose-2023-dnc-limited/ir-datasets:0.0.1 --allow-network true --command 'diffir --dataset iranthology-dnc-limited --web $outputDir/run.txt > $outputDir/run.html'\n",
    "    ```\n",
    "8. Evaluate the effectiveness of the baseline on your relevance judgments:\n",
    "    ```\n",
    "    tira-run --input-directory ${PWD}/bm25-output --image registry.webis.de/code-research/tira/tira-user-ir-lab-sose-2023-dnc-limited/ir-datasets:0.0.1 --allow-network true --command 'ir_measures iranthology-dnc-limited $inputDataset/run.txt nDCG@10 MRR P@10 Recall@100'\n",
    "    ```"
   ]
  },
  {
   "cell_type": "markdown",
   "id": "a4a05dba",
   "metadata": {},
   "source": [
    "## Code"
   ]
  },
  {
   "cell_type": "code",
   "execution_count": 1,
   "id": "eddbf7e9",
   "metadata": {
    "ExecuteTime": {
     "end_time": "2023-05-28T20:47:38.417559100Z",
     "start_time": "2023-05-28T20:47:30.467216300Z"
    }
   },
   "outputs": [
    {
     "name": "stdout",
     "output_type": "stream",
     "text": [
      "Start PyTerrier with version=5.7, helper_version=0.0.7, no_download=True\n"
     ]
    },
    {
     "name": "stderr",
     "output_type": "stream",
     "text": [
      "PyTerrier 0.9.2 has loaded Terrier 5.7 (built by craigm on 2022-11-10 18:30) and terrier-helper 0.0.7\n",
      "\n",
      "No etc/terrier.properties, using terrier.default.properties for bootstrap configuration.\n"
     ]
    },
    {
     "name": "stdout",
     "output_type": "stream",
     "text": [
      "I will use a small hardcoded example located in ./iranthology-dataset-tira.\n",
      "The output directory is /tmp/\n"
     ]
    }
   ],
   "source": [
    "import pyterrier as pt\n",
    "import pandas as pd\n",
    "from tira.third_party_integrations import ensure_pyterrier_is_loaded, get_input_directory_and_output_directory, persist_and_normalize_run\n",
    "import json\n",
    "from tqdm import tqdm\n",
    "\n",
    "ensure_pyterrier_is_loaded()\n",
    "input_directory, output_directory = get_input_directory_and_output_directory('./iranthology-dataset-tira')"
   ]
  },
  {
   "cell_type": "markdown",
   "id": "c70b1e3d",
   "metadata": {},
   "source": [
    "Start PyTerrier with version=5.7, helper_version=0.0.7, no_download=True"
   ]
  },
  {
   "cell_type": "code",
   "execution_count": 2,
   "id": "06dce6ab",
   "metadata": {},
   "outputs": [
    {
     "name": "stdout",
     "output_type": "stream",
     "text": [
      "total 115M\r\n",
      "drwxrwxrwx 1 root root 4.0K May 28 18:26 .\r\n",
      "drwxrwxrwx 1 root root 4.0K May 28 20:48 ..\r\n",
      "-rw-r--r-- 1 root root 115M May 28 18:26 documents.jsonl\r\n",
      "-rw-r--r-- 1 root root   46 May 28 18:26 metadata.json\r\n",
      "-rw-r--r-- 1 root root 3.0K May 28 18:26 queries.jsonl\r\n",
      "-rw-r--r-- 1 root root 3.8K May 28 18:26 queries.xml\r\n"
     ]
    }
   ],
   "source": [
    "!ls -lha {input_directory}"
   ]
  },
  {
   "cell_type": "markdown",
   "id": "9ea9536b",
   "metadata": {},
   "source": [
    "The input directory contains the following files:"
   ]
  },
  {
   "cell_type": "code",
   "execution_count": 3,
   "id": "fab8c958",
   "metadata": {},
   "outputs": [],
   "source": [
    "queries = pt.io.read_topics(input_directory + '/queries.xml', format='trecxml')\n",
    "\n",
    "documents = [json.loads(i) for i in open(input_directory + '/documents.jsonl', 'r')]"
   ]
  },
  {
   "cell_type": "markdown",
   "id": "26664e2a",
   "metadata": {},
   "source": [
    "Load Data"
   ]
  },
  {
   "cell_type": "code",
   "execution_count": 4,
   "id": "f57c4cba",
   "metadata": {},
   "outputs": [
    {
     "name": "stderr",
     "output_type": "stream",
     "text": [
      "100%|███████████████████████████████████████████████████████████████████████████| 53673/53673 [00:10<00:00, 5021.94it/s]\n"
     ]
    }
   ],
   "source": [
    "!rm -Rf ./index\n",
    "iter_indexer = pt.IterDictIndexer(\"./index\", meta={'docno' : 100})\n",
    "index_ref = iter_indexer.index(tqdm(documents))"
   ]
  },
  {
   "cell_type": "markdown",
   "id": "1a5cd21f",
   "metadata": {},
   "source": [
    "Create the Index."
   ]
  },
  {
   "cell_type": "code",
   "execution_count": 5,
   "id": "983fa1f6",
   "metadata": {},
   "outputs": [],
   "source": [
    "bm25 = pt.BatchRetrieve(index_ref, wmodel=\"BM25\", verbose=True)"
   ]
  },
  {
   "cell_type": "markdown",
   "id": "12e9622d",
   "metadata": {},
   "source": [
    "Create Retrieval Pipeline"
   ]
  },
  {
   "cell_type": "code",
   "execution_count": 6,
   "id": "a95a8a32",
   "metadata": {},
   "outputs": [
    {
     "name": "stdout",
     "output_type": "stream",
     "text": [
      "Step 5: Create Run.\n"
     ]
    },
    {
     "name": "stderr",
     "output_type": "stream",
     "text": [
      "BR(BM25): 100%|████████████████████████████████████████████████████████████████████████████| 6/6 [00:00<00:00,  8.52q/s]\n"
     ]
    }
   ],
   "source": [
    "print('Step 5: Create Run.')\n",
    "\n",
    "run = bm25(queries)"
   ]
  },
  {
   "cell_type": "markdown",
   "id": "8f656a8b",
   "metadata": {},
   "source": [
    "Create run"
   ]
  },
  {
   "cell_type": "code",
   "execution_count": 7,
   "id": "d7ec9a8a",
   "metadata": {},
   "outputs": [
    {
     "name": "stdout",
     "output_type": "stream",
     "text": [
      "We look at the first 10 results of the run:\n",
      "\n"
     ]
    },
    {
     "data": {
      "text/html": [
       "<div>\n",
       "<style scoped>\n",
       "    .dataframe tbody tr th:only-of-type {\n",
       "        vertical-align: middle;\n",
       "    }\n",
       "\n",
       "    .dataframe tbody tr th {\n",
       "        vertical-align: top;\n",
       "    }\n",
       "\n",
       "    .dataframe thead th {\n",
       "        text-align: right;\n",
       "    }\n",
       "</style>\n",
       "<table border=\"1\" class=\"dataframe\">\n",
       "  <thead>\n",
       "    <tr style=\"text-align: right;\">\n",
       "      <th></th>\n",
       "      <th>qid</th>\n",
       "      <th>docid</th>\n",
       "      <th>docno</th>\n",
       "      <th>rank</th>\n",
       "      <th>score</th>\n",
       "      <th>query</th>\n",
       "    </tr>\n",
       "  </thead>\n",
       "  <tbody>\n",
       "    <tr>\n",
       "      <th>0</th>\n",
       "      <td>1</td>\n",
       "      <td>8644</td>\n",
       "      <td>2007.sigirconf_conference-2007.39</td>\n",
       "      <td>0</td>\n",
       "      <td>17.033467</td>\n",
       "      <td>machine learning for more relevant results</td>\n",
       "    </tr>\n",
       "    <tr>\n",
       "      <th>1</th>\n",
       "      <td>1</td>\n",
       "      <td>6941</td>\n",
       "      <td>2012.sigirconf_conference-2012.5</td>\n",
       "      <td>1</td>\n",
       "      <td>16.888207</td>\n",
       "      <td>machine learning for more relevant results</td>\n",
       "    </tr>\n",
       "    <tr>\n",
       "      <th>2</th>\n",
       "      <td>1</td>\n",
       "      <td>21378</td>\n",
       "      <td>2009.cikm_conference-2009.190</td>\n",
       "      <td>2</td>\n",
       "      <td>16.778766</td>\n",
       "      <td>machine learning for more relevant results</td>\n",
       "    </tr>\n",
       "    <tr>\n",
       "      <th>3</th>\n",
       "      <td>1</td>\n",
       "      <td>24062</td>\n",
       "      <td>2016.cikm_conference-2016.93</td>\n",
       "      <td>3</td>\n",
       "      <td>16.194192</td>\n",
       "      <td>machine learning for more relevant results</td>\n",
       "    </tr>\n",
       "    <tr>\n",
       "      <th>4</th>\n",
       "      <td>1</td>\n",
       "      <td>50848</td>\n",
       "      <td>2007.ipm_journal-ir0anthology0volumeA43A4.3</td>\n",
       "      <td>4</td>\n",
       "      <td>16.157097</td>\n",
       "      <td>machine learning for more relevant results</td>\n",
       "    </tr>\n",
       "    <tr>\n",
       "      <th>5</th>\n",
       "      <td>1</td>\n",
       "      <td>22430</td>\n",
       "      <td>2018.cikm_conference-2018.299</td>\n",
       "      <td>5</td>\n",
       "      <td>16.146165</td>\n",
       "      <td>machine learning for more relevant results</td>\n",
       "    </tr>\n",
       "    <tr>\n",
       "      <th>6</th>\n",
       "      <td>1</td>\n",
       "      <td>33649</td>\n",
       "      <td>2018.wwwconf_conference-2018c.298</td>\n",
       "      <td>6</td>\n",
       "      <td>16.113325</td>\n",
       "      <td>machine learning for more relevant results</td>\n",
       "    </tr>\n",
       "    <tr>\n",
       "      <th>7</th>\n",
       "      <td>1</td>\n",
       "      <td>22940</td>\n",
       "      <td>2010.cikm_conference-2010.163</td>\n",
       "      <td>7</td>\n",
       "      <td>16.001429</td>\n",
       "      <td>machine learning for more relevant results</td>\n",
       "    </tr>\n",
       "    <tr>\n",
       "      <th>8</th>\n",
       "      <td>1</td>\n",
       "      <td>8916</td>\n",
       "      <td>2010.sigirconf_conference-2010.89</td>\n",
       "      <td>8</td>\n",
       "      <td>15.730135</td>\n",
       "      <td>machine learning for more relevant results</td>\n",
       "    </tr>\n",
       "    <tr>\n",
       "      <th>9</th>\n",
       "      <td>1</td>\n",
       "      <td>7178</td>\n",
       "      <td>2014.sigirconf_conference-2014.17</td>\n",
       "      <td>9</td>\n",
       "      <td>15.720376</td>\n",
       "      <td>machine learning for more relevant results</td>\n",
       "    </tr>\n",
       "  </tbody>\n",
       "</table>\n",
       "</div>"
      ],
      "text/plain": [
       "  qid  docid                                        docno  rank      score  \\\n",
       "0   1   8644            2007.sigirconf_conference-2007.39     0  17.033467   \n",
       "1   1   6941             2012.sigirconf_conference-2012.5     1  16.888207   \n",
       "2   1  21378                2009.cikm_conference-2009.190     2  16.778766   \n",
       "3   1  24062                 2016.cikm_conference-2016.93     3  16.194192   \n",
       "4   1  50848  2007.ipm_journal-ir0anthology0volumeA43A4.3     4  16.157097   \n",
       "5   1  22430                2018.cikm_conference-2018.299     5  16.146165   \n",
       "6   1  33649            2018.wwwconf_conference-2018c.298     6  16.113325   \n",
       "7   1  22940                2010.cikm_conference-2010.163     7  16.001429   \n",
       "8   1   8916            2010.sigirconf_conference-2010.89     8  15.730135   \n",
       "9   1   7178            2014.sigirconf_conference-2014.17     9  15.720376   \n",
       "\n",
       "                                         query  \n",
       "0   machine learning for more relevant results  \n",
       "1   machine learning for more relevant results  \n",
       "2   machine learning for more relevant results  \n",
       "3   machine learning for more relevant results  \n",
       "4   machine learning for more relevant results  \n",
       "5   machine learning for more relevant results  \n",
       "6   machine learning for more relevant results  \n",
       "7   machine learning for more relevant results  \n",
       "8   machine learning for more relevant results  \n",
       "9   machine learning for more relevant results  "
      ]
     },
     "execution_count": 7,
     "metadata": {},
     "output_type": "execute_result"
    }
   ],
   "source": [
    "print('We look at the first 10 results of the run:\\n')\n",
    "run.head(10)"
   ]
  },
  {
   "cell_type": "markdown",
   "id": "05fe2d36",
   "metadata": {},
   "source": [
    "We look at the first 10 results of the run:"
   ]
  },
  {
   "cell_type": "code",
   "execution_count": 8,
   "id": "c37da475",
   "metadata": {},
   "outputs": [
    {
     "name": "stdout",
     "output_type": "stream",
     "text": [
      "Step 6: Persist Run.\n",
      "Done :)\n"
     ]
    }
   ],
   "source": [
    "print('Step 6: Persist Run.')\n",
    "\n",
    "persist_and_normalize_run(run, output_file=output_directory, system_name='BM25', depth=1000)\n",
    "\n",
    "print('Done :)')"
   ]
  },
  {
   "cell_type": "markdown",
   "id": "7110eaf7",
   "metadata": {},
   "source": [
    "Step 6: Persist Run.\n",
    "Done :)"
   ]
  }
 ],
 "metadata": {
  "kernelspec": {
   "display_name": "Python 3 (ipykernel)",
   "language": "python",
   "name": "python3"
  },
  "language_info": {
   "codemirror_mode": {
    "name": "ipython",
    "version": 3
   },
   "file_extension": ".py",
   "mimetype": "text/x-python",
   "name": "python",
   "nbconvert_exporter": "python",
   "pygments_lexer": "ipython3",
   "version": "3.7.13"
  },
  "widgets": {
   "application/vnd.jupyter.widget-state+json": {
    "state": {},
    "version_major": 2,
    "version_minor": 0
   }
  }
 },
 "nbformat": 4,
 "nbformat_minor": 5
}
