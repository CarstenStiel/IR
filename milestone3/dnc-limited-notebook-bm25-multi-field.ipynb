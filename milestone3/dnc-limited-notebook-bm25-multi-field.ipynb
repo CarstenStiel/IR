{
 "cells": [
  {
   "cell_type": "markdown",
   "id": "bb68a97a",
   "metadata": {},
   "source": [
    "# <ins> Milestone 3 </ins>"
   ]
  },
  {
   "cell_type": "markdown",
   "id": "7b479a05",
   "metadata": {},
   "source": [
    "## Information for BM25 >> Multi Field\n",
    "\n",
    "The following Code is for the use inside the \"pyterrier\" Docker image and couldnÂ´t function, if you want to execute it in your notebook!\n",
    "\n",
    "Please follow these steps to create the needed output:\n",
    "\n",
    "### Pre-condition\n",
    "\n",
    "1. Navigate in your terminal to the \"milestone3\" folder and open \"Docker Desktop\"\n",
    "\n",
    "2. Pull the image of the \"milestone1\" with the qrels command\n",
    "    ```\n",
    "    docker pull registry.webis.de/code-research/tira/tira-user-ir-lab-sose-2023-dnc-limited/ir-datasets:0.0.1\n",
    "    ```\n",
    "3. Execute the tira-run command for the \"milestone1\" to get the needed output:\n",
    "    ```\n",
    "    tira-run --output-directory ${PWD}/iranthology-dataset-tira --image registry.webis.de/code-research/tira/tira-user-ir-lab-sose-2023-dnc-limited/ir-datasets:0.0.1 --allow-network true --command '/irds_cli.sh --ir_datasets_id iranthology-dnc-limited --output_dataset_path $outputDir'\n",
    "    ```\n",
    "4. Exchange our documents.jsonl with that of the tutor dataset:\n",
    "    ```\n",
    "    iranthology-dataset-tutors-tira.zip -> extract documents.jsonl\n",
    "    insert it into 'iranthology-dataset-tira' and overwrite the existing file\n",
    "    ```\n",
    "\n",
    "### Milestone 3\n",
    "\n",
    "5. Build an image for the current milestone:\n",
    "    ```\n",
    "    docker build -t milestone3 .\n",
    "    ```\n",
    "6. Run this image:\n",
    "    ```\n",
    "    docker run -d -p 8888:8888 --rm -ti -v ${PWD}:/workspace --entrypoint jupyter milestone3  notebook --allow-root --ip 0.0.0.0\n",
    "    ```\n",
    "7. Execute this notebook as tira would do:\n",
    "    ```\n",
    "    tira-run --input-directory ${PWD}/iranthology-dataset-tira --output-directory ${PWD}/bm25-multi-field-output --image milestone3 --command '/workspace/run-pyterrier-notebook.py --input $inputDataset --output $outputDir --notebook /workspace/dnc-limited-notebook-bm25-multi-field.ipynb'\n",
    "    ```\n",
    "8. Render results:\n",
    "    ```\n",
    "    tira-run --output-directory ${PWD}/bm25-multi-field-output --image registry.webis.de/code-research/tira/tira-user-ir-lab-sose-2023-dnc-limited/ir-datasets:0.0.1 --allow-network true --command 'diffir --dataset iranthology-dnc-limited --web $outputDir/run.txt > $outputDir/run.html'\n",
    "    ```\n",
    "9. Evaluate the effectiveness of the baseline on your relevance judgments:\n",
    "    ```\n",
    "    tira-run --input-directory ${PWD}/bm25-multi-field-output --image registry.webis.de/code-research/tira/tira-user-ir-lab-sose-2023-dnc-limited/ir-datasets:0.0.1 --allow-network true --command 'ir_measures iranthology-dnc-limited $inputDataset/run.txt nDCG@10 MRR P@10 Recall@100'\n",
    "    ```"
   ]
  },
  {
   "cell_type": "markdown",
   "id": "a4a05dba",
   "metadata": {},
   "source": [
    "## Code"
   ]
  },
  {
   "cell_type": "code",
   "execution_count": 1,
   "id": "3c8aed7e",
   "metadata": {
    "ExecuteTime": {
     "end_time": "2023-06-24T17:11:08.507640300Z",
     "start_time": "2023-06-24T17:11:08.116402700Z"
    }
   },
   "outputs": [],
   "source": [
    "import pyterrier as pt\n",
    "import pandas as pd\n",
    "from tira.third_party_integrations import ensure_pyterrier_is_loaded, persist_and_normalize_run\n",
    "import json\n",
    "from tqdm import tqdm\n",
    "import os"
   ]
  },
  {
   "cell_type": "markdown",
   "id": "2e0be858",
   "metadata": {},
   "source": [
    "Importing all necessary modules"
   ]
  },
  {
   "cell_type": "code",
   "execution_count": 2,
   "id": "eddbf7e9",
   "metadata": {
    "ExecuteTime": {
     "end_time": "2023-06-24T17:11:08.782155100Z",
     "start_time": "2023-06-24T17:11:08.509643Z"
    }
   },
   "outputs": [
    {
     "name": "stdout",
     "output_type": "stream",
     "text": [
      "Start PyTerrier with version=5.7, helper_version=0.0.7, no_download=True\n"
     ]
    },
    {
     "name": "stderr",
     "output_type": "stream",
     "text": [
      "PyTerrier 0.9.2 has loaded Terrier 5.7 (built by craigm on 2022-11-10 18:30) and terrier-helper 0.0.7\n",
      "\n",
      "No etc/terrier.properties, using terrier.default.properties for bootstrap configuration.\n"
     ]
    },
    {
     "name": "stdout",
     "output_type": "stream",
     "text": [
      "I will read the input data from ./iranthology-dataset-tira.\n",
      "The output directory is /tmp/\n"
     ]
    }
   ],
   "source": [
    "ensure_pyterrier_is_loaded()\n",
    "\n",
    "#Using the \"get_input_directory_andoutputdirectory\" function code from \"tira.third_party_integrations\" to set the input andoutout directory\n",
    "default_input = './iranthology-dataset-tira'\n",
    "default_output = '/tmp/'\n",
    "\n",
    "input_directory = os.environ.get('TIRA_INPUT_DIRECTORY', None)\n",
    "if not input_directory:\n",
    "    input_directory = default_input\n",
    "\n",
    "output_directory = os.environ.get('TIRA_OUTPUT_DIRECTORY', default_output)\n",
    "\n",
    "print(f'I will read the input data from {input_directory}.')\n",
    "print(f'The output directory is {output_directory}')\n"
   ]
  },
  {
   "cell_type": "markdown",
   "id": "c70b1e3d",
   "metadata": {},
   "source": [
    "Ensure that PyTerrier is loaded and setting the input and output directory."
   ]
  },
  {
   "cell_type": "code",
   "execution_count": 3,
   "id": "06dce6ab",
   "metadata": {},
   "outputs": [
    {
     "name": "stdout",
     "output_type": "stream",
     "text": [
      "The input directory contains following files:\n",
      "total 77M\r\n",
      "drwxrwxrwx 1 root root 4.0K Jun 27 09:19 .\r\n",
      "drwxrwxrwx 1 root root 4.0K Jun 27 09:24 ..\r\n",
      "-rwxrwxrwx 1 root root  77M Jun  6 02:59 documents.jsonl\r\n",
      "-rwxrwxrwx 1 root root   41 Jun 26 15:54 metadata.json\r\n",
      "-rwxrwxrwx 1 root root 1.6K Jun 26 15:54 queries.jsonl\r\n",
      "-rwxrwxrwx 1 root root 2.1K Jun 26 15:54 queries.xml\r\n"
     ]
    }
   ],
   "source": [
    "print(\"The input directory contains following files:\")\n",
    "!ls -lha {input_directory}"
   ]
  },
  {
   "cell_type": "markdown",
   "id": "9ea9536b",
   "metadata": {},
   "source": [
    "Checking the input directory."
   ]
  },
  {
   "cell_type": "code",
   "execution_count": 4,
   "id": "fa3ea283",
   "metadata": {},
   "outputs": [
    {
     "name": "stdout",
     "output_type": "stream",
     "text": [
      "Viewing the first 5 documents from the imported documents.jsonl:\n"
     ]
    },
    {
     "data": {
      "text/html": [
       "<div>\n",
       "<style scoped>\n",
       "    .dataframe tbody tr th:only-of-type {\n",
       "        vertical-align: middle;\n",
       "    }\n",
       "\n",
       "    .dataframe tbody tr th {\n",
       "        vertical-align: top;\n",
       "    }\n",
       "\n",
       "    .dataframe thead th {\n",
       "        text-align: right;\n",
       "    }\n",
       "</style>\n",
       "<table border=\"1\" class=\"dataframe\">\n",
       "  <thead>\n",
       "    <tr style=\"text-align: right;\">\n",
       "      <th></th>\n",
       "      <th>docno</th>\n",
       "      <th>text</th>\n",
       "      <th>original_document</th>\n",
       "    </tr>\n",
       "  </thead>\n",
       "  <tbody>\n",
       "    <tr>\n",
       "      <th>0</th>\n",
       "      <td>2019.sigirconf_workshop-2019birndl.0</td>\n",
       "      <td>Proceedings of the 4th Joint Workshop on Bibliometric-enhanced Information Retrieval and Natural Language Processing for Digital Libraries (BIRNDL...</td>\n",
       "      <td>{'doc_id': '2019.sigirconf_workshop-2019birndl.0', 'abstract': '', 'title': 'Proceedings of the 4th Joint Workshop on Bibliometric-enhanced Inform...</td>\n",
       "    </tr>\n",
       "    <tr>\n",
       "      <th>1</th>\n",
       "      <td>2019.sigirconf_workshop-2019birndl.1</td>\n",
       "      <td>Preface: 4th Joint Workshop on BIRNDL at SIGIR 2019</td>\n",
       "      <td>{'doc_id': '2019.sigirconf_workshop-2019birndl.1', 'abstract': '', 'title': 'Preface: 4th Joint Workshop on BIRNDL at SIGIR 2019', 'authors': [], ...</td>\n",
       "    </tr>\n",
       "    <tr>\n",
       "      <th>2</th>\n",
       "      <td>2019.sigirconf_workshop-2019birndl.2</td>\n",
       "      <td>Personalized Feed/Query-formulation, Predictive Impact, and Ranking The Meta discovery system is designed to aid biomedical researchers in keeping...</td>\n",
       "      <td>{'doc_id': '2019.sigirconf_workshop-2019birndl.2', 'abstract': 'The Meta discovery system is designed to aid biomedical researchers in keeping up ...</td>\n",
       "    </tr>\n",
       "    <tr>\n",
       "      <th>3</th>\n",
       "      <td>2019.sigirconf_workshop-2019birndl.3</td>\n",
       "      <td>Discourse Processing for Text Analysis: Recent Successes, Current Challenges Computational discourse processing has come a long way in the 10 year...</td>\n",
       "      <td>{'doc_id': '2019.sigirconf_workshop-2019birndl.3', 'abstract': 'Computational discourse processing has come a long way in the 10 years since I spo...</td>\n",
       "    </tr>\n",
       "    <tr>\n",
       "      <th>4</th>\n",
       "      <td>2019.sigirconf_workshop-2019birndl.4</td>\n",
       "      <td>Distant Supervision for Silver Label Generation of Software Mentions in Social Scientific Publications Many scientific investigations rely on soft...</td>\n",
       "      <td>{'doc_id': '2019.sigirconf_workshop-2019birndl.4', 'abstract': 'Many scientific investigations rely on software for a range of different tasks inc...</td>\n",
       "    </tr>\n",
       "  </tbody>\n",
       "</table>\n",
       "</div>"
      ],
      "text/plain": [
       "                                  docno  \\\n",
       "0  2019.sigirconf_workshop-2019birndl.0   \n",
       "1  2019.sigirconf_workshop-2019birndl.1   \n",
       "2  2019.sigirconf_workshop-2019birndl.2   \n",
       "3  2019.sigirconf_workshop-2019birndl.3   \n",
       "4  2019.sigirconf_workshop-2019birndl.4   \n",
       "\n",
       "                                                                                                                                                    text  \\\n",
       "0  Proceedings of the 4th Joint Workshop on Bibliometric-enhanced Information Retrieval and Natural Language Processing for Digital Libraries (BIRNDL...   \n",
       "1                                                                                                   Preface: 4th Joint Workshop on BIRNDL at SIGIR 2019    \n",
       "2  Personalized Feed/Query-formulation, Predictive Impact, and Ranking The Meta discovery system is designed to aid biomedical researchers in keeping...   \n",
       "3  Discourse Processing for Text Analysis: Recent Successes, Current Challenges Computational discourse processing has come a long way in the 10 year...   \n",
       "4  Distant Supervision for Silver Label Generation of Software Mentions in Social Scientific Publications Many scientific investigations rely on soft...   \n",
       "\n",
       "                                                                                                                                       original_document  \n",
       "0  {'doc_id': '2019.sigirconf_workshop-2019birndl.0', 'abstract': '', 'title': 'Proceedings of the 4th Joint Workshop on Bibliometric-enhanced Inform...  \n",
       "1  {'doc_id': '2019.sigirconf_workshop-2019birndl.1', 'abstract': '', 'title': 'Preface: 4th Joint Workshop on BIRNDL at SIGIR 2019', 'authors': [], ...  \n",
       "2  {'doc_id': '2019.sigirconf_workshop-2019birndl.2', 'abstract': 'The Meta discovery system is designed to aid biomedical researchers in keeping up ...  \n",
       "3  {'doc_id': '2019.sigirconf_workshop-2019birndl.3', 'abstract': 'Computational discourse processing has come a long way in the 10 years since I spo...  \n",
       "4  {'doc_id': '2019.sigirconf_workshop-2019birndl.4', 'abstract': 'Many scientific investigations rely on software for a range of different tasks inc...  "
      ]
     },
     "execution_count": 4,
     "metadata": {},
     "output_type": "execute_result"
    }
   ],
   "source": [
    "pd.set_option('display.max_colwidth', 150) #Setting the maximum width for better visibility\n",
    "\n",
    "docs_df = pd.read_json(f'{input_directory}/documents.jsonl', lines=True) #Consider the textural documents in a dataframe\n",
    "\n",
    "print(\"Viewing the first 5 documents from the imported documents.jsonl:\")\n",
    "docs_df.head(5)"
   ]
  },
  {
   "cell_type": "code",
   "execution_count": 5,
   "id": "fab8c958",
   "metadata": {},
   "outputs": [
    {
     "name": "stdout",
     "output_type": "stream",
     "text": [
      "The loaded queries are:\n",
      "  qid                                       query\n",
      "0   1               detect health related queries\n",
      "1   2   large language models for query expansion\n",
      "2   3                     datasets for web search\n",
      "3   4                known item search for movies\n"
     ]
    }
   ],
   "source": [
    "queries = pt.io.read_topics(input_directory + '/queries.xml', format='trecxml') #Excracting the queries as trecxml format\n",
    "\n",
    "#Viewing the queries\n",
    "print(\"The loaded queries are:\")\n",
    "print(queries)\n",
    "\n",
    "documents = [json.loads(i) for i in open(input_directory + '/documents.jsonl', 'r')]\n",
    "documents = [{'docno': i['docno'], 'text': i['text'], 'title': i['original_document']['title'], 'abstract': i['original_document']['abstract']} for i in documents]"
   ]
  },
  {
   "cell_type": "markdown",
   "id": "26664e2a",
   "metadata": {},
   "source": [
    "Loading all needed data (queries and documents)"
   ]
  },
  {
   "cell_type": "code",
   "execution_count": 6,
   "id": "f57c4cba",
   "metadata": {},
   "outputs": [
    {
     "name": "stderr",
     "output_type": "stream",
     "text": [
      " 31%|████████████████████████████████████████████████████████▍                                                                                                                              | 16560/53673 [00:08<00:09, 4119.84it/s]"
     ]
    },
    {
     "name": "stdout",
     "output_type": "stream",
     "text": [
      "09:26:32.997 [ForkJoinPool-1-worker-3] WARN org.terrier.structures.indexing.Indexer - Adding an empty document to the index (2020.mir_conference-2020.1) - further warnings are suppressed\n"
     ]
    },
    {
     "name": "stderr",
     "output_type": "stream",
     "text": [
      "100%|███████████████████████████████████████████████████████████████████████████████████████████████████████████████████████████████████████████████████████████████████████████████████████| 53673/53673 [00:16<00:00, 3229.35it/s]\n"
     ]
    },
    {
     "name": "stdout",
     "output_type": "stream",
     "text": [
      "09:26:46.751 [ForkJoinPool-1-worker-3] WARN org.terrier.structures.indexing.Indexer - Indexed 3 empty documents\n"
     ]
    }
   ],
   "source": [
    "!rm -Rf ./index #If the index folder exists, ten delete it and its content\n",
    "\n",
    "iter_indexer = pt.IterDictIndexer(\"./index\", meta={'docno' : 100, 'title': 10240, 'abstract': 10240, 'text': 10240}, blocks=True)\n",
    "index_ref = iter_indexer.index(tqdm(documents))"
   ]
  },
  {
   "cell_type": "markdown",
   "id": "1a5cd21f",
   "metadata": {},
   "source": [
    "Create the Index."
   ]
  },
  {
   "cell_type": "code",
   "execution_count": 7,
   "id": "983fa1f6",
   "metadata": {
    "scrolled": false
   },
   "outputs": [
    {
     "name": "stderr",
     "output_type": "stream",
     "text": [
      "BR(BM25): 100%|████████████████████████████████████████████████████████████████████████████████████████████████████████████████████████████████████████████████████████████████████████████████████████| 1/1 [00:02<00:00,  2.01s/q]\n"
     ]
    },
    {
     "data": {
      "text/html": [
       "<div>\n",
       "<style scoped>\n",
       "    .dataframe tbody tr th:only-of-type {\n",
       "        vertical-align: middle;\n",
       "    }\n",
       "\n",
       "    .dataframe tbody tr th {\n",
       "        vertical-align: top;\n",
       "    }\n",
       "\n",
       "    .dataframe thead th {\n",
       "        text-align: right;\n",
       "    }\n",
       "</style>\n",
       "<table border=\"1\" class=\"dataframe\">\n",
       "  <thead>\n",
       "    <tr style=\"text-align: right;\">\n",
       "      <th></th>\n",
       "      <th>qid</th>\n",
       "      <th>docid</th>\n",
       "      <th>docno</th>\n",
       "      <th>text</th>\n",
       "      <th>title</th>\n",
       "      <th>abstract</th>\n",
       "      <th>rank</th>\n",
       "      <th>score</th>\n",
       "      <th>query</th>\n",
       "    </tr>\n",
       "  </thead>\n",
       "  <tbody>\n",
       "    <tr>\n",
       "      <th>0</th>\n",
       "      <td>1</td>\n",
       "      <td>14952</td>\n",
       "      <td>2018.wsdm_conference-2018.3</td>\n",
       "      <td>Theoretical Impediments to Machine Learning With Seven Sparks from the Causal Revolution ABSTRACTCurrent machine learning systems operate, almost ...</td>\n",
       "      <td>Theoretical Impediments to Machine Learning With Seven Sparks from the Causal Revolution</td>\n",
       "      <td>ABSTRACTCurrent machine learning systems operate, almost exclusively, in a statistical, or model-blind mode, which entails severe theoretical limi...</td>\n",
       "      <td>0</td>\n",
       "      <td>16.227153</td>\n",
       "      <td>Limitations machine learning</td>\n",
       "    </tr>\n",
       "    <tr>\n",
       "      <th>1</th>\n",
       "      <td>1</td>\n",
       "      <td>15457</td>\n",
       "      <td>2021.wsdm_conference-2021.156</td>\n",
       "      <td>The 1st International Workshop on Machine Reasoning: International Machine Reasoning Conference (MRC 2021) Recent years have witnessed the success...</td>\n",
       "      <td>The 1st International Workshop on Machine Reasoning: International Machine Reasoning Conference (MRC 2021)</td>\n",
       "      <td>Recent years have witnessed the success of machine learning and especially deep learning in many research areas such as Vision and Language Proces...</td>\n",
       "      <td>1</td>\n",
       "      <td>15.578946</td>\n",
       "      <td>Limitations machine learning</td>\n",
       "    </tr>\n",
       "    <tr>\n",
       "      <th>2</th>\n",
       "      <td>1</td>\n",
       "      <td>32063</td>\n",
       "      <td>2020.wwwconf_conference-2020c.108</td>\n",
       "      <td>Using Deep Learning for Temporal Forecasting of User Activity on Social Media: Challenges and Limitations The recent advances in neural network-ba...</td>\n",
       "      <td>Using Deep Learning for Temporal Forecasting of User Activity on Social Media: Challenges and Limitations</td>\n",
       "      <td>The recent advances in neural network-based machine learning algorithms promise a revolution in prediction-based tasks in a variety of domains. Of...</td>\n",
       "      <td>2</td>\n",
       "      <td>15.118075</td>\n",
       "      <td>Limitations machine learning</td>\n",
       "    </tr>\n",
       "    <tr>\n",
       "      <th>3</th>\n",
       "      <td>1</td>\n",
       "      <td>15517</td>\n",
       "      <td>2017.wsdm_conference-2017.57</td>\n",
       "      <td>Machine Learning at Amazon ABSTRACTIn this talk I will give an introduction into the field of machine learning and discuss why it is a crucial tec...</td>\n",
       "      <td>Machine Learning at Amazon</td>\n",
       "      <td>ABSTRACTIn this talk I will give an introduction into the field of machine learning and discuss why it is a crucial technology for Amazon.Machine ...</td>\n",
       "      <td>3</td>\n",
       "      <td>14.964288</td>\n",
       "      <td>Limitations machine learning</td>\n",
       "    </tr>\n",
       "    <tr>\n",
       "      <th>4</th>\n",
       "      <td>1</td>\n",
       "      <td>15379</td>\n",
       "      <td>2021.wsdm_conference-2021.78</td>\n",
       "      <td>Say No to the Discrimination: Learning Fair Graph Neural Networks with Limited Sensitive Attribute Information Graph neural networks (GNNs) have s...</td>\n",
       "      <td>Say No to the Discrimination: Learning Fair Graph Neural Networks with Limited Sensitive Attribute Information</td>\n",
       "      <td>Graph neural networks (GNNs) have shown great power in modeling graph structured data. However, similar to other machine learning models, GNNs may...</td>\n",
       "      <td>4</td>\n",
       "      <td>14.802679</td>\n",
       "      <td>Limitations machine learning</td>\n",
       "    </tr>\n",
       "    <tr>\n",
       "      <th>...</th>\n",
       "      <td>...</td>\n",
       "      <td>...</td>\n",
       "      <td>...</td>\n",
       "      <td>...</td>\n",
       "      <td>...</td>\n",
       "      <td>...</td>\n",
       "      <td>...</td>\n",
       "      <td>...</td>\n",
       "      <td>...</td>\n",
       "    </tr>\n",
       "    <tr>\n",
       "      <th>995</th>\n",
       "      <td>1</td>\n",
       "      <td>15635</td>\n",
       "      <td>2020.wsdm_conference-2020.70</td>\n",
       "      <td>Fast Item Ranking under Neural Network based Measures Recently, plenty of neural network based recommendation models have demonstrated their stren...</td>\n",
       "      <td>Fast Item Ranking under Neural Network based Measures</td>\n",
       "      <td>Recently, plenty of neural network based recommendation models have demonstrated their strength in modeling complicated relationships between hete...</td>\n",
       "      <td>995</td>\n",
       "      <td>6.757645</td>\n",
       "      <td>Limitations machine learning</td>\n",
       "    </tr>\n",
       "    <tr>\n",
       "      <th>996</th>\n",
       "      <td>1</td>\n",
       "      <td>9900</td>\n",
       "      <td>2016.sigirconf_conference-2016.1</td>\n",
       "      <td>Understanding Human Language: Can NLP and Deep Learning Help? ABSTRACTThere is a lot of overlap between the core problems of information retrieval...</td>\n",
       "      <td>Understanding Human Language: Can NLP and Deep Learning Help?</td>\n",
       "      <td>ABSTRACTThere is a lot of overlap between the core problems of information retrieval (IR) and natural language processing (NLP). An IR system gain...</td>\n",
       "      <td>996</td>\n",
       "      <td>6.756975</td>\n",
       "      <td>Limitations machine learning</td>\n",
       "    </tr>\n",
       "    <tr>\n",
       "      <th>997</th>\n",
       "      <td>1</td>\n",
       "      <td>33234</td>\n",
       "      <td>2018.wwwconf_conference-2018.75</td>\n",
       "      <td>Through a Gender Lens: Learning Usage Patterns of Emojis from Large-Scale Android Users ABSTRACTBased on a large data set of emoji using behavior ...</td>\n",
       "      <td>Through a Gender Lens: Learning Usage Patterns of Emojis from Large-Scale Android Users</td>\n",
       "      <td>ABSTRACTBased on a large data set of emoji using behavior collected from smartphone users over the world, this paper investigates genderspeci c us...</td>\n",
       "      <td>997</td>\n",
       "      <td>6.743410</td>\n",
       "      <td>Limitations machine learning</td>\n",
       "    </tr>\n",
       "    <tr>\n",
       "      <th>998</th>\n",
       "      <td>1</td>\n",
       "      <td>28677</td>\n",
       "      <td>2007.wwwconf_conference-2007.75</td>\n",
       "      <td>Exhibit: lightweight structured data publishing ABSTRACTThe early Web was hailed for giving individuals the same publishing power as large content...</td>\n",
       "      <td>Exhibit: lightweight structured data publishing</td>\n",
       "      <td>ABSTRACTThe early Web was hailed for giving individuals the same publishing power as large content providers. But over time, large content provide...</td>\n",
       "      <td>998</td>\n",
       "      <td>6.727883</td>\n",
       "      <td>Limitations machine learning</td>\n",
       "    </tr>\n",
       "    <tr>\n",
       "      <th>999</th>\n",
       "      <td>1</td>\n",
       "      <td>32652</td>\n",
       "      <td>2004.wwwconf_conference-2004at.116</td>\n",
       "      <td>Small world peer networks in distributed web search ABSTRACTIn ongoing research, a collaborative peer network application is being proposed to add...</td>\n",
       "      <td>Small world peer networks in distributed web search</td>\n",
       "      <td>ABSTRACTIn ongoing research, a collaborative peer network application is being proposed to address the scalability limitations of centralized sear...</td>\n",
       "      <td>999</td>\n",
       "      <td>6.720280</td>\n",
       "      <td>Limitations machine learning</td>\n",
       "    </tr>\n",
       "  </tbody>\n",
       "</table>\n",
       "<p>1000 rows × 9 columns</p>\n",
       "</div>"
      ],
      "text/plain": [
       "    qid  docid                               docno  \\\n",
       "0     1  14952         2018.wsdm_conference-2018.3   \n",
       "1     1  15457       2021.wsdm_conference-2021.156   \n",
       "2     1  32063   2020.wwwconf_conference-2020c.108   \n",
       "3     1  15517        2017.wsdm_conference-2017.57   \n",
       "4     1  15379        2021.wsdm_conference-2021.78   \n",
       "..   ..    ...                                 ...   \n",
       "995   1  15635        2020.wsdm_conference-2020.70   \n",
       "996   1   9900    2016.sigirconf_conference-2016.1   \n",
       "997   1  33234     2018.wwwconf_conference-2018.75   \n",
       "998   1  28677     2007.wwwconf_conference-2007.75   \n",
       "999   1  32652  2004.wwwconf_conference-2004at.116   \n",
       "\n",
       "                                                                                                                                                      text  \\\n",
       "0    Theoretical Impediments to Machine Learning With Seven Sparks from the Causal Revolution ABSTRACTCurrent machine learning systems operate, almost ...   \n",
       "1    The 1st International Workshop on Machine Reasoning: International Machine Reasoning Conference (MRC 2021) Recent years have witnessed the success...   \n",
       "2    Using Deep Learning for Temporal Forecasting of User Activity on Social Media: Challenges and Limitations The recent advances in neural network-ba...   \n",
       "3    Machine Learning at Amazon ABSTRACTIn this talk I will give an introduction into the field of machine learning and discuss why it is a crucial tec...   \n",
       "4    Say No to the Discrimination: Learning Fair Graph Neural Networks with Limited Sensitive Attribute Information Graph neural networks (GNNs) have s...   \n",
       "..                                                                                                                                                     ...   \n",
       "995  Fast Item Ranking under Neural Network based Measures Recently, plenty of neural network based recommendation models have demonstrated their stren...   \n",
       "996  Understanding Human Language: Can NLP and Deep Learning Help? ABSTRACTThere is a lot of overlap between the core problems of information retrieval...   \n",
       "997  Through a Gender Lens: Learning Usage Patterns of Emojis from Large-Scale Android Users ABSTRACTBased on a large data set of emoji using behavior ...   \n",
       "998  Exhibit: lightweight structured data publishing ABSTRACTThe early Web was hailed for giving individuals the same publishing power as large content...   \n",
       "999  Small world peer networks in distributed web search ABSTRACTIn ongoing research, a collaborative peer network application is being proposed to add...   \n",
       "\n",
       "                                                                                                              title  \\\n",
       "0                          Theoretical Impediments to Machine Learning With Seven Sparks from the Causal Revolution   \n",
       "1        The 1st International Workshop on Machine Reasoning: International Machine Reasoning Conference (MRC 2021)   \n",
       "2         Using Deep Learning for Temporal Forecasting of User Activity on Social Media: Challenges and Limitations   \n",
       "3                                                                                        Machine Learning at Amazon   \n",
       "4    Say No to the Discrimination: Learning Fair Graph Neural Networks with Limited Sensitive Attribute Information   \n",
       "..                                                                                                              ...   \n",
       "995                                                           Fast Item Ranking under Neural Network based Measures   \n",
       "996                                                   Understanding Human Language: Can NLP and Deep Learning Help?   \n",
       "997                         Through a Gender Lens: Learning Usage Patterns of Emojis from Large-Scale Android Users   \n",
       "998                                                                 Exhibit: lightweight structured data publishing   \n",
       "999                                                             Small world peer networks in distributed web search   \n",
       "\n",
       "                                                                                                                                                  abstract  \\\n",
       "0    ABSTRACTCurrent machine learning systems operate, almost exclusively, in a statistical, or model-blind mode, which entails severe theoretical limi...   \n",
       "1    Recent years have witnessed the success of machine learning and especially deep learning in many research areas such as Vision and Language Proces...   \n",
       "2    The recent advances in neural network-based machine learning algorithms promise a revolution in prediction-based tasks in a variety of domains. Of...   \n",
       "3    ABSTRACTIn this talk I will give an introduction into the field of machine learning and discuss why it is a crucial technology for Amazon.Machine ...   \n",
       "4    Graph neural networks (GNNs) have shown great power in modeling graph structured data. However, similar to other machine learning models, GNNs may...   \n",
       "..                                                                                                                                                     ...   \n",
       "995  Recently, plenty of neural network based recommendation models have demonstrated their strength in modeling complicated relationships between hete...   \n",
       "996  ABSTRACTThere is a lot of overlap between the core problems of information retrieval (IR) and natural language processing (NLP). An IR system gain...   \n",
       "997  ABSTRACTBased on a large data set of emoji using behavior collected from smartphone users over the world, this paper investigates genderspeci c us...   \n",
       "998  ABSTRACTThe early Web was hailed for giving individuals the same publishing power as large content providers. But over time, large content provide...   \n",
       "999  ABSTRACTIn ongoing research, a collaborative peer network application is being proposed to address the scalability limitations of centralized sear...   \n",
       "\n",
       "     rank      score                         query  \n",
       "0       0  16.227153  Limitations machine learning  \n",
       "1       1  15.578946  Limitations machine learning  \n",
       "2       2  15.118075  Limitations machine learning  \n",
       "3       3  14.964288  Limitations machine learning  \n",
       "4       4  14.802679  Limitations machine learning  \n",
       "..    ...        ...                           ...  \n",
       "995   995   6.757645  Limitations machine learning  \n",
       "996   996   6.756975  Limitations machine learning  \n",
       "997   997   6.743410  Limitations machine learning  \n",
       "998   998   6.727883  Limitations machine learning  \n",
       "999   999   6.720280  Limitations machine learning  \n",
       "\n",
       "[1000 rows x 9 columns]"
      ]
     },
     "execution_count": 7,
     "metadata": {},
     "output_type": "execute_result"
    }
   ],
   "source": [
    "bm25 = pt.BatchRetrieve(index_ref, wmodel=\"BM25\", verbose=True, metadata=['docno', 'text', 'title', 'abstract'])\n",
    "\n",
    "bm25_title = pt.text.scorer(body_attr=\"title\", wmodel=\"BM25\")\n",
    "bm25_abstract = pt.text.scorer(body_attr=\"abstract\", wmodel=\"BM25\")\n",
    "bm25_text = pt.text.scorer(body_attr=\"text\", wmodel=\"BM25\")\n",
    "\n",
    "\n",
    "# Here some \"random\" ranking formula that puts the highest weight on the title and\n",
    "# reduces the weight of matches on the text field\n",
    "# Here is big potential for improvements :)\n",
    "combined_bm25_score = ((1.6*bm25_title) + (1.3*bm25_abstract) + (0.6*bm25_text))\n",
    "\n",
    "\n",
    "dph_title = pt.text.scorer(body_attr=\"title\", wmodel=\"DPH\")\n",
    "dph_abstract = pt.text.scorer(body_attr=\"abstract\", wmodel=\"DPH\")\n",
    "dph_text = pt.text.scorer(body_attr=\"text\", wmodel=\"DPH\")\n",
    "\n",
    "# Here some \"random\" ranking formula that puts the highest weight on the title and\n",
    "# reduces the weight of matches on the text field\n",
    "# Here is big potential for improvements :)\n",
    "combined_dph_score = ((1.6*dph_title) + (1.2*dph_abstract) + (0.6*dph_text))\n",
    "\n",
    "TfIdf_title = pt.text.scorer(body_attr=\"title\", wmodel=\"TF_IDF\", background_index=index_ref)\n",
    "TfIdf_abstract = pt.text.scorer(body_attr=\"abstract\", wmodel=\"TF_IDF\", background_index=index_ref)\n",
    "TfIdf_text = pt.text.scorer(body_attr=\"text\", wmodel=\"TF_IDF\", background_index=index_ref)\n",
    "\n",
    "combined_TfIdf_score = ((1.6*TfIdf_title) + (1.1*TfIdf_abstract) + (0.6*TfIdf_text))\n",
    "\n",
    "# The overall Pipeline: We retrieve the top-1000 results from BM25 that we re-rank using the combined BM25 and DPH scores.\n",
    "# We just add the scores of BM25 and DPH\n",
    "# Here is big potential for improvements :)\n",
    "retrieval_pipeline = bm25 %500 >> (0.5*combined_bm25_score) + (combined_dph_score * 1) + (combined_TfIdf_score * 1.1)\n",
    "bm25.search(\"Limitations machine learning\") #viewing the docid and score of the query \"Limitations machine learning\""
   ]
  },
  {
   "cell_type": "markdown",
   "id": "12e9622d",
   "metadata": {},
   "source": [
    "Create Retrieval Pipeline"
   ]
  },
  {
   "cell_type": "code",
   "execution_count": 8,
   "id": "5d118af1",
   "metadata": {},
   "outputs": [
    {
     "name": "stdout",
     "output_type": "stream",
     "text": [
      "Index informations:\n",
      "Number of documents: 53673\n",
      "Number of terms: 40295\n",
      "Number of postings: 1789380\n",
      "Number of fields: 1\n",
      "Number of tokens: 2706154\n",
      "Field names: [text]\n",
      "Positions:   true\n",
      "\n"
     ]
    }
   ],
   "source": [
    "index = pt.IndexFactory.of(index_ref)\n",
    "print(\"Index informations:\")\n",
    "print(index.getCollectionStatistics().toString())"
   ]
  },
  {
   "cell_type": "markdown",
   "id": "26db1200",
   "metadata": {},
   "source": [
    "Getting information about your created index directory."
   ]
  },
  {
   "cell_type": "code",
   "execution_count": 9,
   "id": "a95a8a32",
   "metadata": {
    "scrolled": false
   },
   "outputs": [
    {
     "name": "stderr",
     "output_type": "stream",
     "text": [
      "BR(BM25): 100%|████████████████████████████████████████████████████████████████████████████████████████████████████████████████████████████████████████████████████████████████████████████████████████| 1/1 [00:00<00:00,  2.20q/s]"
     ]
    },
    {
     "name": "stdout",
     "output_type": "stream",
     "text": [
      "We look at the first 5 results of the run:\n",
      "\n"
     ]
    },
    {
     "name": "stderr",
     "output_type": "stream",
     "text": [
      "\n"
     ]
    },
    {
     "data": {
      "text/html": [
       "<div>\n",
       "<style scoped>\n",
       "    .dataframe tbody tr th:only-of-type {\n",
       "        vertical-align: middle;\n",
       "    }\n",
       "\n",
       "    .dataframe tbody tr th {\n",
       "        vertical-align: top;\n",
       "    }\n",
       "\n",
       "    .dataframe thead th {\n",
       "        text-align: right;\n",
       "    }\n",
       "</style>\n",
       "<table border=\"1\" class=\"dataframe\">\n",
       "  <thead>\n",
       "    <tr style=\"text-align: right;\">\n",
       "      <th></th>\n",
       "      <th>qid</th>\n",
       "      <th>docid</th>\n",
       "      <th>docno</th>\n",
       "      <th>text</th>\n",
       "      <th>title</th>\n",
       "      <th>abstract</th>\n",
       "      <th>rank</th>\n",
       "      <th>score</th>\n",
       "      <th>query</th>\n",
       "    </tr>\n",
       "  </thead>\n",
       "  <tbody>\n",
       "    <tr>\n",
       "      <th>0</th>\n",
       "      <td>1</td>\n",
       "      <td>49659</td>\n",
       "      <td>2021.ipm_journal-ir0anthology0volumeA58A1.6</td>\n",
       "      <td>Detecting health misinformation in online health communities: Incorporating behavioral features into machine learning based approaches</td>\n",
       "      <td>Detecting health misinformation in online health communities: Incorporating behavioral features into machine learning based approaches</td>\n",
       "      <td></td>\n",
       "      <td>0</td>\n",
       "      <td>16.708093</td>\n",
       "      <td>detect health related queries</td>\n",
       "    </tr>\n",
       "    <tr>\n",
       "      <th>1</th>\n",
       "      <td>1</td>\n",
       "      <td>27490</td>\n",
       "      <td>2011.spire_conference-2011.10</td>\n",
       "      <td>Detecting Health Events on the Social Web to Enable Epidemic Intelligence</td>\n",
       "      <td>Detecting Health Events on the Social Web to Enable Epidemic Intelligence</td>\n",
       "      <td></td>\n",
       "      <td>1</td>\n",
       "      <td>15.699445</td>\n",
       "      <td>detect health related queries</td>\n",
       "    </tr>\n",
       "    <tr>\n",
       "      <th>2</th>\n",
       "      <td>1</td>\n",
       "      <td>19930</td>\n",
       "      <td>2019.cikm_conference-2019.346</td>\n",
       "      <td>Concept Drift Adaption for Online Anomaly Detection in Structural Health Monitoring</td>\n",
       "      <td>Concept Drift Adaption for Online Anomaly Detection in Structural Health Monitoring</td>\n",
       "      <td></td>\n",
       "      <td>2</td>\n",
       "      <td>15.507586</td>\n",
       "      <td>detect health related queries</td>\n",
       "    </tr>\n",
       "    <tr>\n",
       "      <th>3</th>\n",
       "      <td>1</td>\n",
       "      <td>39429</td>\n",
       "      <td>2021.tist_journal-ir0anthology0volumeA12A2.4</td>\n",
       "      <td>Indirectly Supervised Anomaly Detection of Clinically Meaningful Health Events from Smart Home Data</td>\n",
       "      <td>Indirectly Supervised Anomaly Detection of Clinically Meaningful Health Events from Smart Home Data</td>\n",
       "      <td></td>\n",
       "      <td>3</td>\n",
       "      <td>15.137599</td>\n",
       "      <td>detect health related queries</td>\n",
       "    </tr>\n",
       "    <tr>\n",
       "      <th>4</th>\n",
       "      <td>1</td>\n",
       "      <td>33009</td>\n",
       "      <td>2013.wwwconf_conference-2013c.302</td>\n",
       "      <td>From health-persona to societal health ABSTRACTIn this position paper, we propose an approach for Web Observatories that builds on using social me...</td>\n",
       "      <td>From health-persona to societal health</td>\n",
       "      <td>ABSTRACTIn this position paper, we propose an approach for Web Observatories that builds on using social media, personal data, and sensors to buil...</td>\n",
       "      <td>4</td>\n",
       "      <td>14.881860</td>\n",
       "      <td>detect health related queries</td>\n",
       "    </tr>\n",
       "  </tbody>\n",
       "</table>\n",
       "</div>"
      ],
      "text/plain": [
       "  qid  docid                                         docno  \\\n",
       "0   1  49659   2021.ipm_journal-ir0anthology0volumeA58A1.6   \n",
       "1   1  27490                 2011.spire_conference-2011.10   \n",
       "2   1  19930                 2019.cikm_conference-2019.346   \n",
       "3   1  39429  2021.tist_journal-ir0anthology0volumeA12A2.4   \n",
       "4   1  33009             2013.wwwconf_conference-2013c.302   \n",
       "\n",
       "                                                                                                                                                    text  \\\n",
       "0                 Detecting health misinformation in online health communities: Incorporating behavioral features into machine learning based approaches   \n",
       "1                                                                              Detecting Health Events on the Social Web to Enable Epidemic Intelligence   \n",
       "2                                                                    Concept Drift Adaption for Online Anomaly Detection in Structural Health Monitoring   \n",
       "3                                                    Indirectly Supervised Anomaly Detection of Clinically Meaningful Health Events from Smart Home Data   \n",
       "4  From health-persona to societal health ABSTRACTIn this position paper, we propose an approach for Web Observatories that builds on using social me...   \n",
       "\n",
       "                                                                                                                                    title  \\\n",
       "0  Detecting health misinformation in online health communities: Incorporating behavioral features into machine learning based approaches   \n",
       "1                                                               Detecting Health Events on the Social Web to Enable Epidemic Intelligence   \n",
       "2                                                     Concept Drift Adaption for Online Anomaly Detection in Structural Health Monitoring   \n",
       "3                                     Indirectly Supervised Anomaly Detection of Clinically Meaningful Health Events from Smart Home Data   \n",
       "4                                                                                                  From health-persona to societal health   \n",
       "\n",
       "                                                                                                                                                abstract  \\\n",
       "0                                                                                                                                                          \n",
       "1                                                                                                                                                          \n",
       "2                                                                                                                                                          \n",
       "3                                                                                                                                                          \n",
       "4  ABSTRACTIn this position paper, we propose an approach for Web Observatories that builds on using social media, personal data, and sensors to buil...   \n",
       "\n",
       "   rank      score                           query  \n",
       "0     0  16.708093   detect health related queries  \n",
       "1     1  15.699445   detect health related queries  \n",
       "2     2  15.507586   detect health related queries  \n",
       "3     3  15.137599   detect health related queries  \n",
       "4     4  14.881860   detect health related queries  "
      ]
     },
     "execution_count": 9,
     "metadata": {},
     "output_type": "execute_result"
    }
   ],
   "source": [
    "run = bm25(queries[:1])\n",
    "print('We look at the first 5 results of the run:\\n')\n",
    "run.head(5)"
   ]
  },
  {
   "cell_type": "markdown",
   "id": "8f656a8b",
   "metadata": {},
   "source": [
    "Create Retrieval Pipeline"
   ]
  },
  {
   "cell_type": "code",
   "execution_count": 10,
   "id": "bba3c71c",
   "metadata": {},
   "outputs": [
    {
     "name": "stderr",
     "output_type": "stream",
     "text": [
      "BR(BM25): 100%|████████████████████████████████████████████████████████████████████████████████████████████████████████████████████████████████████████████████████████████████████████████████████████| 4/4 [00:01<00:00,  3.08q/s]\n"
     ]
    },
    {
     "name": "stdout",
     "output_type": "stream",
     "text": [
      "09:26:55.736 [main] WARN org.terrier.querying.ApplyTermPipeline - The index has no termpipelines configuration, and no control configuration is found. Defaulting to global termpipelines configuration of 'Stopwords,PorterStemmer'. Set a termpipelines control to remove this warning.\n",
      "09:26:57.277 [main] WARN org.terrier.querying.ApplyTermPipeline - The index has no termpipelines configuration, and no control configuration is found. Defaulting to global termpipelines configuration of 'Stopwords,PorterStemmer'. Set a termpipelines control to remove this warning.\n",
      "09:26:59.685 [main] WARN org.terrier.querying.ApplyTermPipeline - The index has no termpipelines configuration, and no control configuration is found. Defaulting to global termpipelines configuration of 'Stopwords,PorterStemmer'. Set a termpipelines control to remove this warning.\n",
      "09:27:00.398 [main] WARN org.terrier.querying.ApplyTermPipeline - The index has no termpipelines configuration, and no control configuration is found. Defaulting to global termpipelines configuration of 'Stopwords,PorterStemmer'. Set a termpipelines control to remove this warning.\n",
      "09:27:01.387 [main] WARN org.terrier.querying.ApplyTermPipeline - The index has no termpipelines configuration, and no control configuration is found. Defaulting to global termpipelines configuration of 'Stopwords,PorterStemmer'. Set a termpipelines control to remove this warning.\n",
      "09:27:02.446 [main] WARN org.terrier.querying.ApplyTermPipeline - The index has no termpipelines configuration, and no control configuration is found. Defaulting to global termpipelines configuration of 'Stopwords,PorterStemmer'. Set a termpipelines control to remove this warning.\n",
      "09:27:03.330 [main] WARN org.terrier.querying.ApplyTermPipeline - The index has no termpipelines configuration, and no control configuration is found. Defaulting to global termpipelines configuration of 'Stopwords,PorterStemmer'. Set a termpipelines control to remove this warning.\n",
      "09:27:04.418 [main] WARN org.terrier.querying.ApplyTermPipeline - The index has no termpipelines configuration, and no control configuration is found. Defaulting to global termpipelines configuration of 'Stopwords,PorterStemmer'. Set a termpipelines control to remove this warning.\n",
      "09:27:05.631 [main] WARN org.terrier.querying.ApplyTermPipeline - The index has no termpipelines configuration, and no control configuration is found. Defaulting to global termpipelines configuration of 'Stopwords,PorterStemmer'. Set a termpipelines control to remove this warning.\n"
     ]
    }
   ],
   "source": [
    "run = retrieval_pipeline(queries)"
   ]
  },
  {
   "cell_type": "markdown",
   "id": "78819bca",
   "metadata": {},
   "source": [
    "Create the run"
   ]
  },
  {
   "cell_type": "code",
   "execution_count": 11,
   "id": "f30cb56f",
   "metadata": {},
   "outputs": [
    {
     "name": "stdout",
     "output_type": "stream",
     "text": [
      "Persist Run and normalize run.\n"
     ]
    }
   ],
   "source": [
    "persist_and_normalize_run(run, output_file=output_directory, system_name='BM25', depth=1000)\n",
    "\n",
    "print(\"Persist Run and normalize run.\")"
   ]
  },
  {
   "cell_type": "markdown",
   "id": "ac821d09",
   "metadata": {},
   "source": [
    "Persist Run."
   ]
  },
  {
   "cell_type": "markdown",
   "id": "77ea97a4",
   "metadata": {},
   "source": [
    "## Previous attempts"
   ]
  },
  {
   "cell_type": "markdown",
   "id": "eec5a7df",
   "metadata": {},
   "source": [
    "nDCG@10 0.4443\n",
    "RR      0.7128\n",
    "P@10    0.3500\n",
    "R@100   0.5998\n",
    "\n",
    "higher title rating and higher last step\n",
    "nDCG@10 0.4625\n",
    "RR      0.7167\n",
    "P@10    0.3667\n",
    "R@100   0.5998\n",
    "\n",
    "2.0 Title higher Text\n",
    "nDCG@10 0.3217\n",
    "RR      0.3874\n",
    "P@10    0.3167\n",
    "R@100   0.5471\n",
    "\n",
    "no abstract rating\n",
    "Kotoro — heute um 19:01 Uhr\n",
    "nDCG@10 0.4714\n",
    "RR      0.6444\n",
    "P@10    0.3833\n",
    "R@100   0.6980\n",
    "\n",
    "staggered decrease in abstract value.\n",
    "1.3 -> 1.2 -> 1.1\n",
    "nDCG@10 0.4702\n",
    "RR      0.6389\n",
    "P@10    0.3833\n",
    "R@100   0.6980\n",
    "\n",
    "staggered decrease in text value\n",
    "0.6 -> 0.5 -> 0.4\n",
    "Kotoro — heute um 19:10 Uhr\n",
    "nDCG@10 0.4736\n",
    "RR      0.6444\n",
    "P@10    0.3833\n",
    "R@100   0.6980\n",
    "\n",
    "staggered increase in title value\n",
    "1.6-> 1.8 -> 2.0\n",
    "nDCG@10 0.4720\n",
    "RR      0.6444\n",
    "P@10    0.3833\n",
    "R@100   0.6915\n",
    "\n",
    "1.6 title wert generell\n",
    "nDCG@10 0.4720\n",
    "RR      0.6444\n",
    "P@10    0.3833\n",
    "R@100   0.6748\n",
    "\n",
    "increased DHP value 1.2 and text value to 0.8 in dhp\n",
    "Kotoro — heute um 19:21 Uhr\n",
    "nDCG@10 0.4720\n",
    "RR      0.6444\n",
    "P@10    0.3833\n",
    "R@100   0.6748\n",
    "nDCG@10 0.4775\n",
    "RR      0.6444\n",
    "P@10    0.4000\n",
    "R@100   0.6637\n",
    "\n",
    "% 1000 -> % 500\n",
    "nDCG@10 0.4704\n",
    "RR      0.6444\n",
    "P@10    0.3833\n",
    "R@100   0.6804\n",
    "\n",
    "letzten beiden schritte höher gewichtet\n",
    "Kotoro — heute um 19:29 Uhr\n",
    "nDCG@10 0.4669\n",
    "RR      0.6444\n",
    "P@10    0.3833\n",
    "R@100   0.6637\n",
    "\n",
    "higher bm25 values"
   ]
  },
  {
   "cell_type": "markdown",
   "id": "be47c86a",
   "metadata": {},
   "source": [
    "## Reflections"
   ]
  },
  {
   "cell_type": "markdown",
   "id": "6aeb0bf6",
   "metadata": {},
   "source": [
    "Timothy Kriewald: The task of this milestone was to improve the previous milestones (specifically Milestone 2). Therefore, unlike the previous milestones, there were no major issues. Our main task here was to achieve the best possible result for the dataset and the topics through extensive testing. After trying the RM3 and SDM approach, we quickly realised, that these won't improve our results as expected. We decided to extend BM25 using \"Multi Field\". This approach provides a way to easily adjust the scores as desired. The biggest challenge here was to determine which field or approach affects the outcome and how to choose the optimal weighting. All in all, however, this was a significantly smoother milestone that, aside from a few minor hurdles, was much more pleasant compared to the previous milestones.\n",
    "\n",
    "Paul Gresens: Beginning with this task i encountered a lot of technical problems, which I could only partly resolve leading to a situation, where I couldn't help my team as much as I wanted to. Besides these difficulties the whole goal of this assignment seemed o lot clearer, compared to the first too, which helped a lot to understand the assignment itself.\n",
    "\n",
    "Constantin:\n",
    "At the beginning of this milestone, I was at a bit of a loss as to how we could improve on our Retrieval System. At first, we tried using RM3 and SDM which in fact worsened our results. So we quickly pivoted to focusing on the Multi field Retrieval Method, since we could easily and quickly modify the values try it out and repeat. In the end we were able to improve on our earlier result, however our improvements were not as significant as I would have hoped. All in all the more freeform style of this milestone certainly added some a sense of uncertainty but more than that the sense of accomplishment for every improvement felt all the better because of it.\n",
    "\n",
    "Nils:\n",
    "At the beginning of the task, there was only the baseline retrieval system that needed improvement. We initially implemented different notebooks and observed how the values evolved. Then, we experimented with various weights and methods using the Multi field Notebook.\n",
    "During this milestone, it was enjoyable to try out different approaches and gradually understand the impact of value changes. However, it required quite a bit of work to collect, analyze, and evaluate the different approaches.\n",
    "We encountered some issues in this milestone when we swapped our dataset with the tutors' dataset, as well as with the long loading times when uploading images and using the submission platform.\n",
    "Overall, this task has shown me how exciting it can be to experiment with different values and evaluate the results.\n",
    "\n",
    "Willi:\n",
    "Having implemented a standard BM25 approach in Milestone 2, we knew the general procedure for implementing different retrieval approaches, which, together with the example notebooks provided, served as a solid tutorial.\n",
    "The RM3 and SDM methods didn't improve our results, so we quickly switched to the Multi field notebook and changed the parameters to try and improve our scores, which we in the end did, even though the changes weren't as significant as we hoped they did. As I didn't do much on this milestone, I can't go into detail about all the problems we encountered, other than the usual ones such as non-functioning installations or problems with Docker.\n",
    "In the end, I liked the freer and more goal-oriented working style of this last submission."
   ]
  }
 ],
 "metadata": {
  "kernelspec": {
   "display_name": "Python 3 (ipykernel)",
   "language": "python",
   "name": "python3"
  },
  "language_info": {
   "codemirror_mode": {
    "name": "ipython",
    "version": 3
   },
   "file_extension": ".py",
   "mimetype": "text/x-python",
   "name": "python",
   "nbconvert_exporter": "python",
   "pygments_lexer": "ipython3",
   "version": "3.7.13"
  },
  "widgets": {
   "application/vnd.jupyter.widget-state+json": {
    "state": {},
    "version_major": 2,
    "version_minor": 0
   }
  }
 },
 "nbformat": 4,
 "nbformat_minor": 5
}
