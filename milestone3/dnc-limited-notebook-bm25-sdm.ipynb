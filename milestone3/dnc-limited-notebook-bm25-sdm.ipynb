{
 "cells": [
  {
   "cell_type": "markdown",
   "id": "bb68a97a",
   "metadata": {},
   "source": [
    "# <ins> Milestone 3 </ins>"
   ]
  },
  {
   "cell_type": "markdown",
   "id": "7b479a05",
   "metadata": {},
   "source": [
    "## Information for BM25-SDM\n",
    "\n",
    "The following Code is for the use inside the \"pyterrier\" Docker image and couldn´t function, if you want to execute it in your notebook!\n",
    "\n",
    "Please follow these steps to create the needed output:\n",
    "\n",
    "### Pre-condition\n",
    "\n",
    "1. Navigate in your terminal to the \"milestone3\" folder and open \"Docker Desktop\"\n",
    "\n",
    "2. Pull the image of the \"milestone1\" with the qrels command\n",
    "    ```\n",
    "    docker pull registry.webis.de/code-research/tira/tira-user-ir-lab-sose-2023-dnc-limited/ir-datasets:0.0.1\n",
    "    ```\n",
    "3. Execute the tira-run command for the \"milestone1\" to get the needed output:\n",
    "    ```\n",
    "    tira-run --output-directory ${PWD}/iranthology-dataset-tira --image registry.webis.de/code-research/tira/tira-user-ir-lab-sose-2023-dnc-limited/ir-datasets:0.0.1 --allow-network true --command '/irds_cli.sh --ir_datasets_id iranthology-dnc-limited --output_dataset_path $outputDir'\n",
    "    ```\n",
    "   \n",
    "### Milestone 3\n",
    "\n",
    "4. Build an image for the current milestone:\n",
    "    ```\n",
    "    docker build -t milestone3 .\n",
    "    ```\n",
    "5. Run this image:\n",
    "    ```\n",
    "    docker run -p 8888:8888 --rm -ti -v ${PWD}:/workspace --entrypoint jupyter milestone3  notebook --allow-root --ip 0.0.0.0\n",
    "    ```\n",
    "6. Execute this notebook as tira would do:\n",
    "    ```\n",
    "    tira-run --input-directory ${PWD}/iranthology-dataset-tira --output-directory ${PWD}/bm25-sdm-output --image milestone3 --command '/workspace/run-pyterrier-notebook.py --input $inputDataset --output $outputDir --notebook /workspace/dnc-limited-notebook-bm25-sdm.ipynb'\n",
    "    ```\n",
    "7. Render results:\n",
    "    ```\n",
    "    tira-run --output-directory ${PWD}/bm25-sdm-output --image registry.webis.de/code-research/tira/tira-user-ir-lab-sose-2023-dnc-limited/ir-datasets:0.0.1 --allow-network true --command 'diffir --dataset iranthology-dnc-limited --web $outputDir/run.txt > $outputDir/run.html'\n",
    "    ```\n",
    "8. Evaluate the effectiveness of the baseline on your relevance judgments:\n",
    "    ```\n",
    "    tira-run --input-directory ${PWD}/bm25-sdm-output --image registry.webis.de/code-research/tira/tira-user-ir-lab-sose-2023-dnc-limited/ir-datasets:0.0.1 --allow-network true --command 'ir_measures iranthology-dnc-limited $inputDataset/run.txt nDCG@10 MRR P@10 Recall@100'\n",
    "    ```"
   ]
  },
  {
   "cell_type": "markdown",
   "id": "a4a05dba",
   "metadata": {},
   "source": [
    "## Code"
   ]
  },
  {
   "cell_type": "code",
   "execution_count": 1,
   "id": "3c8aed7e",
   "metadata": {},
   "outputs": [],
   "source": [
    "import pyterrier as pt\n",
    "import pandas as pd\n",
    "from tira.third_party_integrations import ensure_pyterrier_is_loaded, persist_and_normalize_run\n",
    "import json\n",
    "from tqdm import tqdm\n",
    "import os"
   ]
  },
  {
   "cell_type": "markdown",
   "id": "2e0be858",
   "metadata": {},
   "source": [
    "Importing all necessary modules"
   ]
  },
  {
   "cell_type": "code",
   "execution_count": 2,
   "id": "eddbf7e9",
   "metadata": {
    "ExecuteTime": {
     "end_time": "2023-05-28T20:47:38.417559100Z",
     "start_time": "2023-05-28T20:47:30.467216300Z"
    }
   },
   "outputs": [
    {
     "name": "stdout",
     "output_type": "stream",
     "text": [
      "Start PyTerrier with version=5.7, helper_version=0.0.7, no_download=True\n"
     ]
    },
    {
     "name": "stderr",
     "output_type": "stream",
     "text": [
      "PyTerrier 0.9.2 has loaded Terrier 5.7 (built by craigm on 2022-11-10 18:30) and terrier-helper 0.0.7\n",
      "\n",
      "No etc/terrier.properties, using terrier.default.properties for bootstrap configuration.\n"
     ]
    },
    {
     "name": "stdout",
     "output_type": "stream",
     "text": [
      "I will read the input data from ./iranthology-dataset-tira.\n",
      "The output directory is /tmp/\n"
     ]
    }
   ],
   "source": [
    "ensure_pyterrier_is_loaded()\n",
    "\n",
    "#Using the \"get_input_directory_andoutputdirectory\" function code from \"tira.third_party_integrations\" to set the input andoutout directory\n",
    "default_input = './iranthology-dataset-tira'\n",
    "default_output = '/tmp/'\n",
    "\n",
    "input_directory = os.environ.get('TIRA_INPUT_DIRECTORY', None)\n",
    "if not input_directory:\n",
    "    input_directory = default_input\n",
    "\n",
    "output_directory = os.environ.get('TIRA_OUTPUT_DIRECTORY', default_output)\n",
    "\n",
    "print(f'I will read the input data from {input_directory}.')\n",
    "print(f'The output directory is {output_directory}')\n"
   ]
  },
  {
   "cell_type": "markdown",
   "id": "c70b1e3d",
   "metadata": {},
   "source": [
    "Ensure that PyTerrier is loaded and setting the input and output directory."
   ]
  },
  {
   "cell_type": "code",
   "execution_count": 3,
   "id": "06dce6ab",
   "metadata": {},
   "outputs": [
    {
     "name": "stdout",
     "output_type": "stream",
     "text": [
      "The input directory contains following files:\n",
      "total 115M\r\n",
      "drwxrwxrwx 1 root root 4.0K Jun 21 13:59 .\r\n",
      "drwxrwxrwx 1 root root 4.0K Jun 21 17:20 ..\r\n",
      "-rw-r--r-- 1 root root 115M Jun 21 13:59 documents.jsonl\r\n",
      "-rw-r--r-- 1 root root   46 Jun 21 13:59 metadata.json\r\n",
      "-rw-r--r-- 1 root root 3.0K Jun 21 13:59 queries.jsonl\r\n",
      "-rw-r--r-- 1 root root 3.8K Jun 21 13:59 queries.xml\r\n"
     ]
    }
   ],
   "source": [
    "print(\"The input directory contains following files:\")\n",
    "!ls -lha {input_directory}"
   ]
  },
  {
   "cell_type": "markdown",
   "id": "9ea9536b",
   "metadata": {},
   "source": [
    "Checking the input directory."
   ]
  },
  {
   "cell_type": "code",
   "execution_count": 4,
   "id": "fa3ea283",
   "metadata": {},
   "outputs": [
    {
     "name": "stdout",
     "output_type": "stream",
     "text": [
      "Viewing the first 5 documents from the imported documents.jsonl:\n"
     ]
    },
    {
     "data": {
      "text/html": [
       "<div>\n",
       "<style scoped>\n",
       "    .dataframe tbody tr th:only-of-type {\n",
       "        vertical-align: middle;\n",
       "    }\n",
       "\n",
       "    .dataframe tbody tr th {\n",
       "        vertical-align: top;\n",
       "    }\n",
       "\n",
       "    .dataframe thead th {\n",
       "        text-align: right;\n",
       "    }\n",
       "</style>\n",
       "<table border=\"1\" class=\"dataframe\">\n",
       "  <thead>\n",
       "    <tr style=\"text-align: right;\">\n",
       "      <th></th>\n",
       "      <th>docno</th>\n",
       "      <th>text</th>\n",
       "      <th>original_document</th>\n",
       "    </tr>\n",
       "  </thead>\n",
       "  <tbody>\n",
       "    <tr>\n",
       "      <th>0</th>\n",
       "      <td>2019.sigirconf_workshop-2019birndl.0</td>\n",
       "      <td>CEUR Workshop Proceedings 2414 CEUR-WS.org 2019 http://ceur-ws.org/Vol-2414 urn:nbn:de:0074-2414-3 https://dblp.org/rec/conf/sigir/2019birndl.bib ...</td>\n",
       "      <td>{'doc_id': '2019.sigirconf_workshop-2019birndl.0', 'text': 'CEUR Workshop Proceedings 2414 CEUR-WS.org 2019 http://ceur-ws.org/Vol-2414 urn:nbn:de...</td>\n",
       "    </tr>\n",
       "    <tr>\n",
       "      <th>1</th>\n",
       "      <td>2019.sigirconf_workshop-2019birndl.1</td>\n",
       "      <td>DBLP:conf/sigir/2019birndl Proceedings of the 4th Joint Workshop on Bibliometric-enhanced Information Retrieval and Natural Language Processing fo...</td>\n",
       "      <td>{'doc_id': '2019.sigirconf_workshop-2019birndl.1', 'text': 'DBLP:conf/sigir/2019birndl Proceedings of the 4th Joint Workshop on Bibliometric-enhan...</td>\n",
       "    </tr>\n",
       "    <tr>\n",
       "      <th>2</th>\n",
       "      <td>2019.sigirconf_workshop-2019birndl.2</td>\n",
       "      <td>DBLP:conf/sigir/2019birndl Proceedings of the 4th Joint Workshop on Bibliometric-enhanced Information Retrieval and Natural Language Processing fo...</td>\n",
       "      <td>{'doc_id': '2019.sigirconf_workshop-2019birndl.2', 'text': 'DBLP:conf/sigir/2019birndl Proceedings of the 4th Joint Workshop on Bibliometric-enhan...</td>\n",
       "    </tr>\n",
       "    <tr>\n",
       "      <th>3</th>\n",
       "      <td>2019.sigirconf_workshop-2019birndl.3</td>\n",
       "      <td>DBLP:conf/sigir/2019birndl Proceedings of the 4th Joint Workshop on Bibliometric-enhanced Information Retrieval and Natural Language Processing fo...</td>\n",
       "      <td>{'doc_id': '2019.sigirconf_workshop-2019birndl.3', 'text': 'DBLP:conf/sigir/2019birndl Proceedings of the 4th Joint Workshop on Bibliometric-enhan...</td>\n",
       "    </tr>\n",
       "    <tr>\n",
       "      <th>4</th>\n",
       "      <td>2019.sigirconf_workshop-2019birndl.4</td>\n",
       "      <td>DBLP:conf/sigir/2019birndl Proceedings of the 4th Joint Workshop on Bibliometric-enhanced Information Retrieval and Natural Language Processing fo...</td>\n",
       "      <td>{'doc_id': '2019.sigirconf_workshop-2019birndl.4', 'text': 'DBLP:conf/sigir/2019birndl Proceedings of the 4th Joint Workshop on Bibliometric-enhan...</td>\n",
       "    </tr>\n",
       "  </tbody>\n",
       "</table>\n",
       "</div>"
      ],
      "text/plain": [
       "                                  docno  \\\n",
       "0  2019.sigirconf_workshop-2019birndl.0   \n",
       "1  2019.sigirconf_workshop-2019birndl.1   \n",
       "2  2019.sigirconf_workshop-2019birndl.2   \n",
       "3  2019.sigirconf_workshop-2019birndl.3   \n",
       "4  2019.sigirconf_workshop-2019birndl.4   \n",
       "\n",
       "                                                                                                                                                    text  \\\n",
       "0  CEUR Workshop Proceedings 2414 CEUR-WS.org 2019 http://ceur-ws.org/Vol-2414 urn:nbn:de:0074-2414-3 https://dblp.org/rec/conf/sigir/2019birndl.bib ...   \n",
       "1  DBLP:conf/sigir/2019birndl Proceedings of the 4th Joint Workshop on Bibliometric-enhanced Information Retrieval and Natural Language Processing fo...   \n",
       "2  DBLP:conf/sigir/2019birndl Proceedings of the 4th Joint Workshop on Bibliometric-enhanced Information Retrieval and Natural Language Processing fo...   \n",
       "3  DBLP:conf/sigir/2019birndl Proceedings of the 4th Joint Workshop on Bibliometric-enhanced Information Retrieval and Natural Language Processing fo...   \n",
       "4  DBLP:conf/sigir/2019birndl Proceedings of the 4th Joint Workshop on Bibliometric-enhanced Information Retrieval and Natural Language Processing fo...   \n",
       "\n",
       "                                                                                                                                       original_document  \n",
       "0  {'doc_id': '2019.sigirconf_workshop-2019birndl.0', 'text': 'CEUR Workshop Proceedings 2414 CEUR-WS.org 2019 http://ceur-ws.org/Vol-2414 urn:nbn:de...  \n",
       "1  {'doc_id': '2019.sigirconf_workshop-2019birndl.1', 'text': 'DBLP:conf/sigir/2019birndl Proceedings of the 4th Joint Workshop on Bibliometric-enhan...  \n",
       "2  {'doc_id': '2019.sigirconf_workshop-2019birndl.2', 'text': 'DBLP:conf/sigir/2019birndl Proceedings of the 4th Joint Workshop on Bibliometric-enhan...  \n",
       "3  {'doc_id': '2019.sigirconf_workshop-2019birndl.3', 'text': 'DBLP:conf/sigir/2019birndl Proceedings of the 4th Joint Workshop on Bibliometric-enhan...  \n",
       "4  {'doc_id': '2019.sigirconf_workshop-2019birndl.4', 'text': 'DBLP:conf/sigir/2019birndl Proceedings of the 4th Joint Workshop on Bibliometric-enhan...  "
      ]
     },
     "execution_count": 4,
     "metadata": {},
     "output_type": "execute_result"
    }
   ],
   "source": [
    "pd.set_option('display.max_colwidth', 150) #Setting the maximum width for better visibility\n",
    "\n",
    "docs_df = pd.read_json(f'{input_directory}/documents.jsonl', lines=True) #Consider the textural documents in a dataframe\n",
    "\n",
    "print(\"Viewing the first 5 documents from the imported documents.jsonl:\")\n",
    "docs_df.head(5)"
   ]
  },
  {
   "cell_type": "markdown",
   "id": "5a2cf90e",
   "metadata": {},
   "source": [
    "Viewing the \"documents.jsonl\" data."
   ]
  },
  {
   "cell_type": "code",
   "execution_count": 5,
   "id": "fab8c958",
   "metadata": {},
   "outputs": [
    {
     "name": "stdout",
     "output_type": "stream",
     "text": [
      "The loaded queries are:\n",
      "  qid                                        query\n",
      "0   1   machine learning for more relevant results\n",
      "1   2     crawling websites using machine learning\n",
      "2   3              recommenders influence on users\n",
      "3   4                search engine caching effects\n",
      "4   5                     consumer product reviews\n",
      "5   6                 limitations machine learning\n"
     ]
    }
   ],
   "source": [
    "queries = pt.io.read_topics(input_directory + '/queries.xml', format='trecxml') #Excracting the queries as trecxml format\n",
    "\n",
    "#Viewing the queries\n",
    "print(\"The loaded queries are:\")\n",
    "print(queries)\n",
    "\n",
    "documents = [json.loads(i) for i in open(input_directory + '/documents.jsonl', 'r')] #Extraction the documents (please refer to the code cell above to get a glimpse of its content)"
   ]
  },
  {
   "cell_type": "markdown",
   "id": "26664e2a",
   "metadata": {},
   "source": [
    "Loading all needed data (queries and documents)"
   ]
  },
  {
   "cell_type": "code",
   "execution_count": 6,
   "id": "f57c4cba",
   "metadata": {},
   "outputs": [
    {
     "name": "stderr",
     "output_type": "stream",
     "text": [
      "100%|███████████████████████████████████████████████████████████████████████████████████████████████████████████████████████████████████████████████████████████████████████████████████████| 53673/53673 [00:13<00:00, 3848.61it/s]\n"
     ]
    }
   ],
   "source": [
    "!rm -Rf ./index #If the index folder exists, ten delete it and its content\n",
    "\n",
    "iter_indexer = pt.IterDictIndexer(\"./index\", meta={'docno' : 100}, blocks=True) #Creating the index\n",
    "index_ref = iter_indexer.index(tqdm(documents)) #Using a progressbar for visibility"
   ]
  },
  {
   "cell_type": "markdown",
   "id": "1a5cd21f",
   "metadata": {},
   "source": [
    "Create the Index."
   ]
  },
  {
   "cell_type": "code",
   "execution_count": 7,
   "id": "983fa1f6",
   "metadata": {
    "scrolled": false
   },
   "outputs": [
    {
     "name": "stderr",
     "output_type": "stream",
     "text": [
      "BR(BM25): 100%|████████████████████████████████████████████████████████████████████████████████████████████████████████████████████████████████████████████████████████████████████████████████████████| 1/1 [00:00<00:00,  1.58q/s]\n"
     ]
    },
    {
     "data": {
      "text/html": [
       "<div>\n",
       "<style scoped>\n",
       "    .dataframe tbody tr th:only-of-type {\n",
       "        vertical-align: middle;\n",
       "    }\n",
       "\n",
       "    .dataframe tbody tr th {\n",
       "        vertical-align: top;\n",
       "    }\n",
       "\n",
       "    .dataframe thead th {\n",
       "        text-align: right;\n",
       "    }\n",
       "</style>\n",
       "<table border=\"1\" class=\"dataframe\">\n",
       "  <thead>\n",
       "    <tr style=\"text-align: right;\">\n",
       "      <th></th>\n",
       "      <th>qid</th>\n",
       "      <th>docid</th>\n",
       "      <th>docno</th>\n",
       "      <th>rank</th>\n",
       "      <th>score</th>\n",
       "      <th>query</th>\n",
       "    </tr>\n",
       "  </thead>\n",
       "  <tbody>\n",
       "    <tr>\n",
       "      <th>0</th>\n",
       "      <td>1</td>\n",
       "      <td>15379</td>\n",
       "      <td>2021.wsdm_conference-2021.78</td>\n",
       "      <td>0</td>\n",
       "      <td>17.374985</td>\n",
       "      <td>Limitations machine learning</td>\n",
       "    </tr>\n",
       "    <tr>\n",
       "      <th>1</th>\n",
       "      <td>1</td>\n",
       "      <td>15457</td>\n",
       "      <td>2021.wsdm_conference-2021.156</td>\n",
       "      <td>1</td>\n",
       "      <td>17.300120</td>\n",
       "      <td>Limitations machine learning</td>\n",
       "    </tr>\n",
       "    <tr>\n",
       "      <th>2</th>\n",
       "      <td>1</td>\n",
       "      <td>15517</td>\n",
       "      <td>2017.wsdm_conference-2017.57</td>\n",
       "      <td>2</td>\n",
       "      <td>16.986565</td>\n",
       "      <td>Limitations machine learning</td>\n",
       "    </tr>\n",
       "    <tr>\n",
       "      <th>3</th>\n",
       "      <td>1</td>\n",
       "      <td>32063</td>\n",
       "      <td>2020.wwwconf_conference-2020c.108</td>\n",
       "      <td>3</td>\n",
       "      <td>16.938821</td>\n",
       "      <td>Limitations machine learning</td>\n",
       "    </tr>\n",
       "    <tr>\n",
       "      <th>4</th>\n",
       "      <td>1</td>\n",
       "      <td>14952</td>\n",
       "      <td>2018.wsdm_conference-2018.3</td>\n",
       "      <td>4</td>\n",
       "      <td>16.905845</td>\n",
       "      <td>Limitations machine learning</td>\n",
       "    </tr>\n",
       "    <tr>\n",
       "      <th>...</th>\n",
       "      <td>...</td>\n",
       "      <td>...</td>\n",
       "      <td>...</td>\n",
       "      <td>...</td>\n",
       "      <td>...</td>\n",
       "      <td>...</td>\n",
       "    </tr>\n",
       "    <tr>\n",
       "      <th>995</th>\n",
       "      <td>1</td>\n",
       "      <td>38903</td>\n",
       "      <td>2018.tist_journal-ir0anthology0volumeA9A2.4</td>\n",
       "      <td>995</td>\n",
       "      <td>7.355572</td>\n",
       "      <td>Limitations machine learning</td>\n",
       "    </tr>\n",
       "    <tr>\n",
       "      <th>996</th>\n",
       "      <td>1</td>\n",
       "      <td>22895</td>\n",
       "      <td>2010.cikm_conference-2010.118</td>\n",
       "      <td>996</td>\n",
       "      <td>7.347620</td>\n",
       "      <td>Limitations machine learning</td>\n",
       "    </tr>\n",
       "    <tr>\n",
       "      <th>997</th>\n",
       "      <td>1</td>\n",
       "      <td>30508</td>\n",
       "      <td>2015.wwwconf_conference-2015c.256</td>\n",
       "      <td>997</td>\n",
       "      <td>7.347620</td>\n",
       "      <td>Limitations machine learning</td>\n",
       "    </tr>\n",
       "    <tr>\n",
       "      <th>998</th>\n",
       "      <td>1</td>\n",
       "      <td>416</td>\n",
       "      <td>2011.ntcir_workshop-2011.2</td>\n",
       "      <td>998</td>\n",
       "      <td>7.338885</td>\n",
       "      <td>Limitations machine learning</td>\n",
       "    </tr>\n",
       "    <tr>\n",
       "      <th>999</th>\n",
       "      <td>1</td>\n",
       "      <td>18958</td>\n",
       "      <td>2019.ecir_conference-20191.13</td>\n",
       "      <td>999</td>\n",
       "      <td>7.328811</td>\n",
       "      <td>Limitations machine learning</td>\n",
       "    </tr>\n",
       "  </tbody>\n",
       "</table>\n",
       "<p>1000 rows × 6 columns</p>\n",
       "</div>"
      ],
      "text/plain": [
       "    qid  docid                                        docno  rank      score  \\\n",
       "0     1  15379                 2021.wsdm_conference-2021.78     0  17.374985   \n",
       "1     1  15457                2021.wsdm_conference-2021.156     1  17.300120   \n",
       "2     1  15517                 2017.wsdm_conference-2017.57     2  16.986565   \n",
       "3     1  32063            2020.wwwconf_conference-2020c.108     3  16.938821   \n",
       "4     1  14952                  2018.wsdm_conference-2018.3     4  16.905845   \n",
       "..   ..    ...                                          ...   ...        ...   \n",
       "995   1  38903  2018.tist_journal-ir0anthology0volumeA9A2.4   995   7.355572   \n",
       "996   1  22895                2010.cikm_conference-2010.118   996   7.347620   \n",
       "997   1  30508            2015.wwwconf_conference-2015c.256   997   7.347620   \n",
       "998   1    416                   2011.ntcir_workshop-2011.2   998   7.338885   \n",
       "999   1  18958                2019.ecir_conference-20191.13   999   7.328811   \n",
       "\n",
       "                            query  \n",
       "0    Limitations machine learning  \n",
       "1    Limitations machine learning  \n",
       "2    Limitations machine learning  \n",
       "3    Limitations machine learning  \n",
       "4    Limitations machine learning  \n",
       "..                            ...  \n",
       "995  Limitations machine learning  \n",
       "996  Limitations machine learning  \n",
       "997  Limitations machine learning  \n",
       "998  Limitations machine learning  \n",
       "999  Limitations machine learning  \n",
       "\n",
       "[1000 rows x 6 columns]"
      ]
     },
     "execution_count": 7,
     "metadata": {},
     "output_type": "execute_result"
    }
   ],
   "source": [
    "sdm = pt.rewrite.SDM()\n",
    "bm25 = pt.BatchRetrieve(index_ref, wmodel=\"BM25\", verbose=True)\n",
    "\n",
    "retrieval_pipeline = sdm >> bm25\n",
    "\n",
    "bm25.search(\"Limitations machine learning\") #viewing the docid and score of the query \"Limitations machine learning\""
   ]
  },
  {
   "cell_type": "markdown",
   "id": "12e9622d",
   "metadata": {},
   "source": [
    "Create Retrieval Pipeline"
   ]
  },
  {
   "cell_type": "code",
   "execution_count": 8,
   "id": "5d118af1",
   "metadata": {},
   "outputs": [
    {
     "name": "stdout",
     "output_type": "stream",
     "text": [
      "Index informations:\n",
      "Number of documents: 53673\n",
      "Number of terms: 138650\n",
      "Number of postings: 3931406\n",
      "Number of fields: 1\n",
      "Number of tokens: 6333284\n",
      "Field names: [text]\n",
      "Positions:   true\n",
      "\n"
     ]
    }
   ],
   "source": [
    "index = pt.IndexFactory.of(index_ref)\n",
    "print(\"Index informations:\")\n",
    "print(index.getCollectionStatistics().toString())"
   ]
  },
  {
   "cell_type": "markdown",
   "id": "26db1200",
   "metadata": {},
   "source": [
    "Getting information about your created index directory."
   ]
  },
  {
   "cell_type": "code",
   "execution_count": 9,
   "id": "a95a8a32",
   "metadata": {
    "scrolled": false
   },
   "outputs": [
    {
     "name": "stderr",
     "output_type": "stream",
     "text": [
      "BR(BM25): 100%|████████████████████████████████████████████████████████████████████████████████████████████████████████████████████████████████████████████████████████████████████████████████████████| 6/6 [00:00<00:00,  6.20q/s]\n"
     ]
    }
   ],
   "source": [
    "run = retrieval_pipeline(queries)"
   ]
  },
  {
   "cell_type": "markdown",
   "id": "8f656a8b",
   "metadata": {},
   "source": [
    "Create run"
   ]
  },
  {
   "cell_type": "code",
   "execution_count": 10,
   "id": "d7ec9a8a",
   "metadata": {},
   "outputs": [
    {
     "name": "stdout",
     "output_type": "stream",
     "text": [
      "We look at the first 10 results of the run:\n",
      "\n"
     ]
    },
    {
     "data": {
      "text/html": [
       "<div>\n",
       "<style scoped>\n",
       "    .dataframe tbody tr th:only-of-type {\n",
       "        vertical-align: middle;\n",
       "    }\n",
       "\n",
       "    .dataframe tbody tr th {\n",
       "        vertical-align: top;\n",
       "    }\n",
       "\n",
       "    .dataframe thead th {\n",
       "        text-align: right;\n",
       "    }\n",
       "</style>\n",
       "<table border=\"1\" class=\"dataframe\">\n",
       "  <thead>\n",
       "    <tr style=\"text-align: right;\">\n",
       "      <th></th>\n",
       "      <th>qid</th>\n",
       "      <th>docid</th>\n",
       "      <th>docno</th>\n",
       "      <th>rank</th>\n",
       "      <th>score</th>\n",
       "      <th>query</th>\n",
       "      <th>query_0</th>\n",
       "    </tr>\n",
       "  </thead>\n",
       "  <tbody>\n",
       "    <tr>\n",
       "      <th>0</th>\n",
       "      <td>1</td>\n",
       "      <td>8644</td>\n",
       "      <td>2007.sigirconf_conference-2007.39</td>\n",
       "      <td>0</td>\n",
       "      <td>17.399095</td>\n",
       "      <td>machine learning relevant results #combine:0=0.1:wmodel=org.terrier.matching.models.dependence.pBiL(#1(machine learning)) #combine:0=0.1:wmodel=or...</td>\n",
       "      <td>machine learning for more relevant results</td>\n",
       "    </tr>\n",
       "    <tr>\n",
       "      <th>1</th>\n",
       "      <td>1</td>\n",
       "      <td>6941</td>\n",
       "      <td>2012.sigirconf_conference-2012.5</td>\n",
       "      <td>1</td>\n",
       "      <td>17.211525</td>\n",
       "      <td>machine learning relevant results #combine:0=0.1:wmodel=org.terrier.matching.models.dependence.pBiL(#1(machine learning)) #combine:0=0.1:wmodel=or...</td>\n",
       "      <td>machine learning for more relevant results</td>\n",
       "    </tr>\n",
       "    <tr>\n",
       "      <th>2</th>\n",
       "      <td>1</td>\n",
       "      <td>21378</td>\n",
       "      <td>2009.cikm_conference-2009.190</td>\n",
       "      <td>2</td>\n",
       "      <td>17.166249</td>\n",
       "      <td>machine learning relevant results #combine:0=0.1:wmodel=org.terrier.matching.models.dependence.pBiL(#1(machine learning)) #combine:0=0.1:wmodel=or...</td>\n",
       "      <td>machine learning for more relevant results</td>\n",
       "    </tr>\n",
       "    <tr>\n",
       "      <th>3</th>\n",
       "      <td>1</td>\n",
       "      <td>24062</td>\n",
       "      <td>2016.cikm_conference-2016.93</td>\n",
       "      <td>3</td>\n",
       "      <td>16.689386</td>\n",
       "      <td>machine learning relevant results #combine:0=0.1:wmodel=org.terrier.matching.models.dependence.pBiL(#1(machine learning)) #combine:0=0.1:wmodel=or...</td>\n",
       "      <td>machine learning for more relevant results</td>\n",
       "    </tr>\n",
       "    <tr>\n",
       "      <th>4</th>\n",
       "      <td>1</td>\n",
       "      <td>22430</td>\n",
       "      <td>2018.cikm_conference-2018.299</td>\n",
       "      <td>4</td>\n",
       "      <td>16.534006</td>\n",
       "      <td>machine learning relevant results #combine:0=0.1:wmodel=org.terrier.matching.models.dependence.pBiL(#1(machine learning)) #combine:0=0.1:wmodel=or...</td>\n",
       "      <td>machine learning for more relevant results</td>\n",
       "    </tr>\n",
       "    <tr>\n",
       "      <th>5</th>\n",
       "      <td>1</td>\n",
       "      <td>33649</td>\n",
       "      <td>2018.wwwconf_conference-2018c.298</td>\n",
       "      <td>5</td>\n",
       "      <td>16.510985</td>\n",
       "      <td>machine learning relevant results #combine:0=0.1:wmodel=org.terrier.matching.models.dependence.pBiL(#1(machine learning)) #combine:0=0.1:wmodel=or...</td>\n",
       "      <td>machine learning for more relevant results</td>\n",
       "    </tr>\n",
       "    <tr>\n",
       "      <th>6</th>\n",
       "      <td>1</td>\n",
       "      <td>50848</td>\n",
       "      <td>2007.ipm_journal-ir0anthology0volumeA43A4.3</td>\n",
       "      <td>6</td>\n",
       "      <td>16.300946</td>\n",
       "      <td>machine learning relevant results #combine:0=0.1:wmodel=org.terrier.matching.models.dependence.pBiL(#1(machine learning)) #combine:0=0.1:wmodel=or...</td>\n",
       "      <td>machine learning for more relevant results</td>\n",
       "    </tr>\n",
       "    <tr>\n",
       "      <th>7</th>\n",
       "      <td>1</td>\n",
       "      <td>22940</td>\n",
       "      <td>2010.cikm_conference-2010.163</td>\n",
       "      <td>7</td>\n",
       "      <td>16.217081</td>\n",
       "      <td>machine learning relevant results #combine:0=0.1:wmodel=org.terrier.matching.models.dependence.pBiL(#1(machine learning)) #combine:0=0.1:wmodel=or...</td>\n",
       "      <td>machine learning for more relevant results</td>\n",
       "    </tr>\n",
       "    <tr>\n",
       "      <th>8</th>\n",
       "      <td>1</td>\n",
       "      <td>7178</td>\n",
       "      <td>2014.sigirconf_conference-2014.17</td>\n",
       "      <td>8</td>\n",
       "      <td>16.137815</td>\n",
       "      <td>machine learning relevant results #combine:0=0.1:wmodel=org.terrier.matching.models.dependence.pBiL(#1(machine learning)) #combine:0=0.1:wmodel=or...</td>\n",
       "      <td>machine learning for more relevant results</td>\n",
       "    </tr>\n",
       "    <tr>\n",
       "      <th>9</th>\n",
       "      <td>1</td>\n",
       "      <td>8916</td>\n",
       "      <td>2010.sigirconf_conference-2010.89</td>\n",
       "      <td>9</td>\n",
       "      <td>15.973994</td>\n",
       "      <td>machine learning relevant results #combine:0=0.1:wmodel=org.terrier.matching.models.dependence.pBiL(#1(machine learning)) #combine:0=0.1:wmodel=or...</td>\n",
       "      <td>machine learning for more relevant results</td>\n",
       "    </tr>\n",
       "  </tbody>\n",
       "</table>\n",
       "</div>"
      ],
      "text/plain": [
       "  qid  docid                                        docno  rank      score  \\\n",
       "0   1   8644            2007.sigirconf_conference-2007.39     0  17.399095   \n",
       "1   1   6941             2012.sigirconf_conference-2012.5     1  17.211525   \n",
       "2   1  21378                2009.cikm_conference-2009.190     2  17.166249   \n",
       "3   1  24062                 2016.cikm_conference-2016.93     3  16.689386   \n",
       "4   1  22430                2018.cikm_conference-2018.299     4  16.534006   \n",
       "5   1  33649            2018.wwwconf_conference-2018c.298     5  16.510985   \n",
       "6   1  50848  2007.ipm_journal-ir0anthology0volumeA43A4.3     6  16.300946   \n",
       "7   1  22940                2010.cikm_conference-2010.163     7  16.217081   \n",
       "8   1   7178            2014.sigirconf_conference-2014.17     8  16.137815   \n",
       "9   1   8916            2010.sigirconf_conference-2010.89     9  15.973994   \n",
       "\n",
       "                                                                                                                                                   query  \\\n",
       "0  machine learning relevant results #combine:0=0.1:wmodel=org.terrier.matching.models.dependence.pBiL(#1(machine learning)) #combine:0=0.1:wmodel=or...   \n",
       "1  machine learning relevant results #combine:0=0.1:wmodel=org.terrier.matching.models.dependence.pBiL(#1(machine learning)) #combine:0=0.1:wmodel=or...   \n",
       "2  machine learning relevant results #combine:0=0.1:wmodel=org.terrier.matching.models.dependence.pBiL(#1(machine learning)) #combine:0=0.1:wmodel=or...   \n",
       "3  machine learning relevant results #combine:0=0.1:wmodel=org.terrier.matching.models.dependence.pBiL(#1(machine learning)) #combine:0=0.1:wmodel=or...   \n",
       "4  machine learning relevant results #combine:0=0.1:wmodel=org.terrier.matching.models.dependence.pBiL(#1(machine learning)) #combine:0=0.1:wmodel=or...   \n",
       "5  machine learning relevant results #combine:0=0.1:wmodel=org.terrier.matching.models.dependence.pBiL(#1(machine learning)) #combine:0=0.1:wmodel=or...   \n",
       "6  machine learning relevant results #combine:0=0.1:wmodel=org.terrier.matching.models.dependence.pBiL(#1(machine learning)) #combine:0=0.1:wmodel=or...   \n",
       "7  machine learning relevant results #combine:0=0.1:wmodel=org.terrier.matching.models.dependence.pBiL(#1(machine learning)) #combine:0=0.1:wmodel=or...   \n",
       "8  machine learning relevant results #combine:0=0.1:wmodel=org.terrier.matching.models.dependence.pBiL(#1(machine learning)) #combine:0=0.1:wmodel=or...   \n",
       "9  machine learning relevant results #combine:0=0.1:wmodel=org.terrier.matching.models.dependence.pBiL(#1(machine learning)) #combine:0=0.1:wmodel=or...   \n",
       "\n",
       "                                       query_0  \n",
       "0   machine learning for more relevant results  \n",
       "1   machine learning for more relevant results  \n",
       "2   machine learning for more relevant results  \n",
       "3   machine learning for more relevant results  \n",
       "4   machine learning for more relevant results  \n",
       "5   machine learning for more relevant results  \n",
       "6   machine learning for more relevant results  \n",
       "7   machine learning for more relevant results  \n",
       "8   machine learning for more relevant results  \n",
       "9   machine learning for more relevant results  "
      ]
     },
     "execution_count": 10,
     "metadata": {},
     "output_type": "execute_result"
    }
   ],
   "source": [
    "print('We look at the first 10 results of the run:\\n')\n",
    "run.head(10)"
   ]
  },
  {
   "cell_type": "code",
   "execution_count": 11,
   "id": "c37da475",
   "metadata": {
    "is_executing": true
   },
   "outputs": [
    {
     "name": "stdout",
     "output_type": "stream",
     "text": [
      "Persist Run and normalize run.\n"
     ]
    }
   ],
   "source": [
    "persist_and_normalize_run(run, output_file=output_directory, system_name='BM25-SDM', depth=1000)\n",
    "\n",
    "print(\"Persist Run and normalize run.\")"
   ]
  },
  {
   "cell_type": "markdown",
   "id": "b70db8c9",
   "metadata": {},
   "source": [
    "Persist Run."
   ]
  }
 ],
 "metadata": {
  "kernelspec": {
   "display_name": "Python 3 (ipykernel)",
   "language": "python",
   "name": "python3"
  },
  "language_info": {
   "codemirror_mode": {
    "name": "ipython",
    "version": 3
   },
   "file_extension": ".py",
   "mimetype": "text/x-python",
   "name": "python",
   "nbconvert_exporter": "python",
   "pygments_lexer": "ipython3",
   "version": "3.7.13"
  },
  "widgets": {
   "application/vnd.jupyter.widget-state+json": {
    "state": {},
    "version_major": 2,
    "version_minor": 0
   }
  }
 },
 "nbformat": 4,
 "nbformat_minor": 5
}
